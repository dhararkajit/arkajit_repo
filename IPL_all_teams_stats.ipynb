{
 "cells": [
  {
   "cell_type": "code",
   "execution_count": 1,
   "metadata": {
    "collapsed": true
   },
   "outputs": [],
   "source": [
    "from bs4 import BeautifulSoup\n",
    "import urllib\n",
    "import pandas as pd\n",
    "import numpy as np"
   ]
  },
  {
   "cell_type": "code",
   "execution_count": 179,
   "metadata": {
    "collapsed": true
   },
   "outputs": [],
   "source": [
    "def make_list(rows):\n",
    "    rows = rows.find_all('tr')\n",
    "    list_data = []\n",
    "    head =rows[0].find_all('th')\n",
    "    list_data.append([ele.text.strip() for ele in head])\n",
    "    for row in rows:\n",
    "        cols = row.find_all('td')\n",
    "        cols = [ele.text.strip() for ele in cols]\n",
    "        list_data.append([ele for ele in cols if ele !=[]])\n",
    "    return list_data"
   ]
  },
  {
   "cell_type": "code",
   "execution_count": 208,
   "metadata": {},
   "outputs": [],
   "source": [
    "def make_dataframe(url):\n",
    "    response = urllib.request.urlopen(url)\n",
    "    raw_html = BeautifulSoup(response,'lxml')\n",
    "    table = raw_html.find_all('table',attrs={'class':'engineTable'})\n",
    "    row_list=make_list(table[0])\n",
    "    df=pd.DataFrame(row_list[2:],columns = row_list[0])\n",
    "    return df"
   ]
  },
  {
   "cell_type": "code",
   "execution_count": 209,
   "metadata": {
    "collapsed": true
   },
   "outputs": [],
   "source": [
    "def make_dataframe2(url):\n",
    "    response = urllib.request.urlopen(url)\n",
    "    raw_html = BeautifulSoup(response,'lxml')\n",
    "    table = raw_html.find_all('table',attrs={'class':'engineTable'})\n",
    "    row_list1=make_list(table[0])\n",
    "    df1=pd.DataFrame(row_list1[2:],columns = row_list1[0])\n",
    "    row_list2=make_list(table[1])\n",
    "    df2=pd.DataFrame(row_list2[2:],columns = row_list2[0])\n",
    "    return df1, df2"
   ]
  },
  {
   "cell_type": "code",
   "execution_count": 205,
   "metadata": {
    "collapsed": true
   },
   "outputs": [],
   "source": [
    "url_dict_2017 = {'kp' : 'http://stats.espncricinfo.com/indian-premier-league-2017/engine/records/averages/batting_bowling_by_team.html?id=11701;team=4342;type=tournament',\n",
    "\n",
    "'mi' : 'http://stats.espncricinfo.com/indian-premier-league-2017/engine/records/averages/batting_bowling_by_team.html?id=11701;team=4346;type=tournament',\n",
    "\n",
    "'rps' : 'http://stats.espncricinfo.com/indian-premier-league-2017/engine/records/averages/batting_bowling_by_team.html?id=11701;team=5843;type=tournament',\n",
    "\n",
    "'rcb': 'http://stats.espncricinfo.com/indian-premier-league-2017/engine/records/averages/batting_bowling_by_team.html?id=11701;team=4340;type=tournament',\n",
    "\n",
    "'srh' : 'http://stats.espncricinfo.com/indian-premier-league-2017/engine/records/averages/batting_bowling_by_team.html?id=11701;team=5143;type=tournament',\n",
    "\n",
    "'dd' : 'http://stats.espncricinfo.com/indian-premier-league-2017/engine/records/averages/batting_bowling_by_team.html?id=11701;team=4344;type=tournament',\n",
    "\n",
    "'gl' : 'http://stats.espncricinfo.com/indian-premier-league-2017/engine/records/averages/batting_bowling_by_team.html?id=11701;team=5845;type=tournament',\n",
    "\n",
    "'batting_mr_4n6'  : 'http://stats.espncricinfo.com/indian-premier-league-2017/engine/records/batting/most_runs_from_fours_sixes_innings.html?id=11701;type=tournament',\n",
    "\n",
    "'bowling_mr_conceded' : 'http://stats.espncricinfo.com/indian-premier-league-2017/engine/records/bowling/most_runs_conceded_innings.html?id=11701;type=tournament',\n",
    "\n",
    "'bowling_avg' : 'http://stats.espncricinfo.com/indian-premier-league-2017/engine/records/averages/bowling.html?id=11701;type=tournament',\n",
    "\n",
    "'batting_avg' : 'http://stats.espncricinfo.com/indian-premier-league-2017/engine/records/averages/batting.html?id=11701;type=tournament',\n",
    "\n",
    "'highest_sr_inn' : 'http://stats.espncricinfo.com/indian-premier-league-2017/engine/records/batting/highest_strike_rate_innings.html?id=11701;type=tournament'         \n",
    "}"
   ]
  },
  {
   "cell_type": "code",
   "execution_count": 210,
   "metadata": {},
   "outputs": [],
   "source": [
    "kp_df_bat_2017,kp_df_bowl_2017 = make_dataframe2(url_dict_2017['kp'])\n",
    "rps_df_bat_2017,rps_df_bowl_2017 = make_dataframe2(url_dict_2017['rps'])\n",
    "rcb_df_bat_2017,rcb_df_bowl_2017 = make_dataframe2(url_dict_2017['rcb'])\n",
    "dd_df_bat_2017,dd_df_bowl_2017 = make_dataframe2(url_dict_2017['dd'])\n",
    "srh_df_bat_2017,srh_df_bowl_2017 = make_dataframe2(url_dict_2017['srh'])\n",
    "gl_df_bat_2017,gl_df_bowl_2017 = make_dataframe2(url_dict_2017['gl'])\n",
    "mi_df_bat_2017,mi_df_bowl_2017 = make_dataframe2(url_dict_2017['mi'])"
   ]
  },
  {
   "cell_type": "code",
   "execution_count": 211,
   "metadata": {},
   "outputs": [],
   "source": [
    "bat_4n6_df_2017 = make_dataframe(url_dict_2017['batting_mr_4n6'])\n",
    "bow_mr_conc_df_2017 = make_dataframe(url_dict_2017['bowling_mr_conceded'])\n",
    "bow_avg_df_2017 = make_dataframe(url_dict_2017['bowling_avg'])\n",
    "bat_avg_df_2017 = make_dataframe(url_dict_2017['batting_avg'])\n",
    "high_sr_df_2017 = make_dataframe(url_dict_2017['highest_sr_inn'])\n"
   ]
  },
  {
   "cell_type": "code",
   "execution_count": null,
   "metadata": {
    "collapsed": true
   },
   "outputs": [],
   "source": []
  }
 ],
 "metadata": {
  "kernelspec": {
   "display_name": "Python 3",
   "language": "python",
   "name": "python3"
  },
  "language_info": {
   "codemirror_mode": {
    "name": "ipython",
    "version": 3
   },
   "file_extension": ".py",
   "mimetype": "text/x-python",
   "name": "python",
   "nbconvert_exporter": "python",
   "pygments_lexer": "ipython3",
   "version": "3.5.3"
  }
 },
 "nbformat": 4,
 "nbformat_minor": 2
}
