{
 "cells": [
  {
   "cell_type": "code",
   "execution_count": 1,
   "metadata": {
    "collapsed": true
   },
   "outputs": [],
   "source": [
    "from bs4 import BeautifulSoup\n",
    "import urllib\n",
    "import pandas as pd\n",
    "import numpy as np"
   ]
  },
  {
   "cell_type": "code",
   "execution_count": 2,
   "metadata": {
    "collapsed": true
   },
   "outputs": [],
   "source": [
    "def make_list(rows):\n",
    "    rows = rows.find_all('tr')\n",
    "    list_data = []\n",
    "    head =rows[0].find_all('th')\n",
    "    list_data.append([ele.text.strip() for ele in head])\n",
    "    for row in rows:\n",
    "        cols = row.find_all('td')\n",
    "        cols = [ele.text.strip() for ele in cols]\n",
    "        list_data.append([ele for ele in cols if ele !=[]])\n",
    "    return list_data"
   ]
  },
  {
   "cell_type": "code",
   "execution_count": 3,
   "metadata": {
    "collapsed": true
   },
   "outputs": [],
   "source": [
    "def make_dataframe(url):\n",
    "    response = urllib.request.urlopen(url)\n",
    "    raw_html = BeautifulSoup(response,'lxml')\n",
    "    table = raw_html.find_all('table',attrs={'class':'engineTable'})\n",
    "    row_list=make_list(table[0])\n",
    "    df=pd.DataFrame(row_list[2:],columns = row_list[0])\n",
    "    return df"
   ]
  },
  {
   "cell_type": "code",
   "execution_count": 4,
   "metadata": {
    "collapsed": true
   },
   "outputs": [],
   "source": [
    "def make_dataframe2(url):\n",
    "    response = urllib.request.urlopen(url)\n",
    "    raw_html = BeautifulSoup(response,'lxml')\n",
    "    table = raw_html.find_all('table',attrs={'class':'engineTable'})\n",
    "    row_list1=make_list(table[0])\n",
    "    df1=pd.DataFrame(row_list1[2:],columns = row_list1[0])\n",
    "    row_list2=make_list(table[1])\n",
    "    df2=pd.DataFrame(row_list2[2:],columns = row_list2[0])\n",
    "    return df1, df2"
   ]
  },
  {
   "cell_type": "code",
   "execution_count": 5,
   "metadata": {
    "collapsed": true
   },
   "outputs": [],
   "source": [
    "url_dict_2017 = {'kp' : 'http://stats.espncricinfo.com/indian-premier-league-2017/engine/records/averages/batting_bowling_by_team.html?id=11701;team=4342;type=tournament',\n",
    "\n",
    "'mi' : 'http://stats.espncricinfo.com/indian-premier-league-2017/engine/records/averages/batting_bowling_by_team.html?id=11701;team=4346;type=tournament',\n",
    "\n",
    "'rps' : 'http://stats.espncricinfo.com/indian-premier-league-2017/engine/records/averages/batting_bowling_by_team.html?id=11701;team=5843;type=tournament',\n",
    "\n",
    "'rcb': 'http://stats.espncricinfo.com/indian-premier-league-2017/engine/records/averages/batting_bowling_by_team.html?id=11701;team=4340;type=tournament',\n",
    "\n",
    "'srh' : 'http://stats.espncricinfo.com/indian-premier-league-2017/engine/records/averages/batting_bowling_by_team.html?id=11701;team=5143;type=tournament',\n",
    "\n",
    "'dd' : 'http://stats.espncricinfo.com/indian-premier-league-2017/engine/records/averages/batting_bowling_by_team.html?id=11701;team=4344;type=tournament',\n",
    "\n",
    "'gl' : 'http://stats.espncricinfo.com/indian-premier-league-2017/engine/records/averages/batting_bowling_by_team.html?id=11701;team=5845;type=tournament',\n",
    "\n",
    "'kkr' : 'http://stats.espncricinfo.com/indian-premier-league-2017/engine/records/averages/batting_bowling_by_team.html?id=11701;team=4341;type=tournament',                 \n",
    "                 \n",
    "'batting_mr_4n6'  : 'http://stats.espncricinfo.com/indian-premier-league-2017/engine/records/batting/most_runs_from_fours_sixes_innings.html?id=11701;type=tournament',\n",
    "\n",
    "'bowling_mr_conceded' : 'http://stats.espncricinfo.com/indian-premier-league-2017/engine/records/bowling/most_runs_conceded_innings.html?id=11701;type=tournament',\n",
    "\n",
    "'bowling_avg' : 'http://stats.espncricinfo.com/indian-premier-league-2017/engine/records/averages/bowling.html?id=11701;type=tournament',\n",
    "\n",
    "'batting_avg' : 'http://stats.espncricinfo.com/indian-premier-league-2017/engine/records/averages/batting.html?id=11701;type=tournament',\n",
    "\n",
    "'highest_sr_inn' : 'http://stats.espncricinfo.com/indian-premier-league-2017/engine/records/batting/highest_strike_rate_innings.html?id=11701;type=tournament'         \n",
    "}"
   ]
  },
  {
   "cell_type": "code",
   "execution_count": 12,
   "metadata": {
    "collapsed": true
   },
   "outputs": [],
   "source": [
    "kkr_df_bat_2017,kkr_df_bowl_2017 = make_dataframe2(url_dict_2017['kkr'])\n",
    "kkr_df_bat_2016,kkr_df_bowl_2016 = make_dataframe2(url_dict_2016['kkr'])\n",
    "kkr_df_bat_2015,kkr_df_bowl_2015 = make_dataframe2(url_dict_2015['kkr'])\n",
    "kkr_df_bat_2014,kkr_df_bowl_2014 = make_dataframe2(url_dict_2014['kkr'])\n",
    "kkr_df_bat_2013,kkr_df_bowl_2013 = make_dataframe2(url_dict_2013['kkr'])\n",
    "kkr_df_bat_2012,kkr_df_bowl_2012 = make_dataframe2(url_dict_2012['kkr'])\n",
    "\n",
    "kkr_df_bat_2017.to_csv('IPL_MOST_RUNS\\Most_runs_2017_KKR.csv')\n",
    "kkr_df_bat_2016.to_csv('IPL_MOST_RUNS\\Most_runs_2016_KKR.csv')\n",
    "kkr_df_bat_2015.to_csv('IPL_MOST_RUNS\\Most_runs_2015_KKR.csv')\n",
    "kkr_df_bat_2014.to_csv('IPL_MOST_RUNS\\Most_runs_2014_KKR.csv')\n",
    "kkr_df_bat_2013.to_csv('IPL_MOST_RUNS\\Most_runs_2013_KKR.csv')\n",
    "kkr_df_bat_2012.to_csv('IPL_MOST_RUNS\\Most_runs_2012_KKR.csv')\n",
    "\n",
    "kkr_df_bowl_2017.to_csv('IPL_MOST_WICKETS\\Most_wickets_2017_KKR.csv')\n",
    "kkr_df_bowl_2016.to_csv('IPL_MOST_WICKETS\\Most_wickets_2016_KKR.csv')\n",
    "kkr_df_bowl_2015.to_csv('IPL_MOST_WICKETS\\Most_wickets_2015_KKR.csv')\n",
    "kkr_df_bowl_2014.to_csv('IPL_MOST_WICKETS\\Most_wickets_2014_KKR.csv')\n",
    "kkr_df_bowl_2013.to_csv('IPL_MOST_WICKETS\\Most_wickets_2013_KKR.csv')\n",
    "kkr_df_bowl_2012.to_csv('IPL_MOST_WICKETS\\Most_wickets_2012_KKR.csv')"
   ]
  },
  {
   "cell_type": "code",
   "execution_count": 6,
   "metadata": {
    "collapsed": true
   },
   "outputs": [],
   "source": [
    "kp_df_bat_2017,kp_df_bowl_2017 = make_dataframe2(url_dict_2017['kp'])\n",
    "rps_df_bat_2017,rps_df_bowl_2017 = make_dataframe2(url_dict_2017['rps'])\n",
    "rcb_df_bat_2017,rcb_df_bowl_2017 = make_dataframe2(url_dict_2017['rcb'])\n",
    "dd_df_bat_2017,dd_df_bowl_2017 = make_dataframe2(url_dict_2017['dd'])\n",
    "srh_df_bat_2017,srh_df_bowl_2017 = make_dataframe2(url_dict_2017['srh'])\n",
    "gl_df_bat_2017,gl_df_bowl_2017 = make_dataframe2(url_dict_2017['gl'])\n",
    "mi_df_bat_2017,mi_df_bowl_2017 = make_dataframe2(url_dict_2017['mi'])"
   ]
  },
  {
   "cell_type": "code",
   "execution_count": 7,
   "metadata": {
    "collapsed": true
   },
   "outputs": [],
   "source": [
    "bat_4n6_df_2017 = make_dataframe(url_dict_2017['batting_mr_4n6'])\n",
    "bow_mr_conc_df_2017 = make_dataframe(url_dict_2017['bowling_mr_conceded'])\n",
    "#bow_avg_df_2017 = make_dataframe(url_dict_2017['bowling_avg'])\n",
    "#bat_avg_df_2017 = make_dataframe(url_dict_2017['batting_avg'])\n",
    "high_sr_df_2017 = make_dataframe(url_dict_2017['highest_sr_inn'])\n"
   ]
  },
  {
   "cell_type": "code",
   "execution_count": 8,
   "metadata": {
    "collapsed": true
   },
   "outputs": [],
   "source": [
    "kp_df_bat_2017.to_csv('IPL_MOST_RUNS\\Most_runs_2017_KP.csv')\n",
    "mi_df_bat_2017.to_csv('IPL_MOST_RUNS\\Most_runs_2017_MI.csv')\n",
    "rps_df_bat_2017.to_csv('IPL_MOST_RUNS\\Most_runs_2017_RPS.csv')\n",
    "dd_df_bat_2017.to_csv('IPL_MOST_RUNS\\Most_runs_2017_DD.csv')\n",
    "srh_df_bat_2017.to_csv('IPL_MOST_RUNS\\Most_runs_2017_SRH.csv')\n",
    "rcb_df_bat_2017.to_csv('IPL_MOST_RUNS\\Most_runs_2017_RCB.csv')\n",
    "gl_df_bat_2017.to_csv('IPL_MOST_RUNS\\Most_runs_2017_GL.csv')\n",
    "\n",
    "\n",
    "kp_df_bowl_2017.to_csv('IPL_MOST_WICKETS\\Most_wickets_2017_KP.csv')\n",
    "mi_df_bowl_2017.to_csv('IPL_MOST_WICKETS\\Most_wickets_2017_MI.csv')\n",
    "rps_df_bowl_2017.to_csv('IPL_MOST_WICKETS\\Most_wickets_2017_RPS.csv')\n",
    "dd_df_bowl_2017.to_csv('IPL_MOST_WICKETS\\Most_wickets_2017_DD.csv')\n",
    "srh_df_bowl_2017.to_csv('IPL_MOST_WICKETS\\Most_wickets_2017_SRH.csv')\n",
    "rcb_df_bowl_2017.to_csv('IPL_MOST_WICKETS\\Most_wickets_2017_RCB.csv')\n",
    "gl_df_bowl_2017.to_csv('IPL_MOST_WICKETS\\Most_wickets_2017_GL.csv')"
   ]
  },
  {
   "cell_type": "code",
   "execution_count": 9,
   "metadata": {
    "collapsed": true
   },
   "outputs": [],
   "source": [
    "bat_4n6_df_2017.to_csv('IPL_TEAMS_STAT\\Most_4n6_2017.csv')\n",
    "bow_mr_conc_df_2017.to_csv('IPL_TEAMS_STAT\\Most_runs_conc_2017.csv')\n",
    "high_sr_df_2017.to_csv('IPL_TEAMS_STAT\\Most_bat_sr_2017.csv')"
   ]
  },
  {
   "cell_type": "code",
   "execution_count": 6,
   "metadata": {
    "collapsed": true
   },
   "outputs": [],
   "source": [
    "url_dict_2016 = {'kp' : 'http://stats.espncricinfo.com/indian-premier-league-2017/engine/records/averages/batting_bowling_by_team.html?id=11001;team=4342;type=tournament',\n",
    "\n",
    "'mi' : 'http://stats.espncricinfo.com/indian-premier-league-2017/engine/records/averages/batting_bowling_by_team.html?id=11001;team=4346;type=tournament',\n",
    "\n",
    "'rps' : 'http://stats.espncricinfo.com/indian-premier-league-2017/engine/records/averages/batting_bowling_by_team.html?id=11001;team=5843;type=tournament',\n",
    "\n",
    "'rcb': 'http://stats.espncricinfo.com/indian-premier-league-2017/engine/records/averages/batting_bowling_by_team.html?id=11001;team=4340;type=tournament',\n",
    "\n",
    "'srh' : 'http://stats.espncricinfo.com/indian-premier-league-2017/engine/records/averages/batting_bowling_by_team.html?id=11001;team=5143;type=tournament',\n",
    "\n",
    "'dd' : 'http://stats.espncricinfo.com/indian-premier-league-2016/engine/records/averages/batting_bowling_by_team.html?id=11001;team=4344;type=tournament',\n",
    "\n",
    "'gl' : 'http://stats.espncricinfo.com/indian-premier-league-2017/engine/records/averages/batting_bowling_by_team.html?id=11001;team=5845;type=tournament',\n",
    "\n",
    "'kkr' : 'http://stats.espncricinfo.com/indian-premier-league-2017/engine/records/averages/batting_bowling_by_team.html?id=11001;team=4341;type=tournament',                 \n",
    "                 \n",
    "'batting_mr_4n6'  : 'http://stats.espncricinfo.com/indian-premier-league-2017/engine/records/batting/most_runs_from_fours_sixes_innings.html?id=11001;type=tournament',\n",
    "\n",
    "'bowling_mr_conceded' : 'http://stats.espncricinfo.com/indian-premier-league-2017/engine/records/bowling/most_runs_conceded_innings.html?id=11001;type=tournament',\n",
    "\n",
    "'bowling_avg' : 'http://stats.espncricinfo.com/indian-premier-league-2017/engine/records/averages/bowling.html?id=11001;type=tournament',\n",
    "\n",
    "'batting_avg' : 'http://stats.espncricinfo.com/indian-premier-league-2017/engine/records/averages/batting.html?id=11001;type=tournament',\n",
    "\n",
    "'highest_sr_inn' : 'http://stats.espncricinfo.com/indian-premier-league-2017/engine/records/batting/highest_strike_rate_innings.html?id=11001;type=tournament'         \n",
    "}"
   ]
  },
  {
   "cell_type": "code",
   "execution_count": 11,
   "metadata": {
    "collapsed": true
   },
   "outputs": [],
   "source": [
    "kp_df_bat_2016,kp_df_bowl_2016 = make_dataframe2(url_dict_2016['kp'])\n",
    "rps_df_bat_2016,rps_df_bowl_2016 = make_dataframe2(url_dict_2016['rps'])\n",
    "rcb_df_bat_2016,rcb_df_bowl_2016 = make_dataframe2(url_dict_2016['rcb'])\n",
    "dd_df_bat_2016,dd_df_bowl_2016 = make_dataframe2(url_dict_2016['dd'])\n",
    "srh_df_bat_2016,srh_df_bowl_2016 = make_dataframe2(url_dict_2016['srh'])\n",
    "gl_df_bat_2016,gl_df_bowl_2016 = make_dataframe2(url_dict_2016['gl'])\n",
    "mi_df_bat_2016,mi_df_bowl_2016 = make_dataframe2(url_dict_2016['mi'])"
   ]
  },
  {
   "cell_type": "code",
   "execution_count": 12,
   "metadata": {
    "collapsed": true
   },
   "outputs": [],
   "source": [
    "bat_4n6_df_2016 = make_dataframe(url_dict_2016['batting_mr_4n6'])\n",
    "bow_mr_conc_df_2016 = make_dataframe(url_dict_2016['bowling_mr_conceded'])\n",
    "#bow_avg_df_2016 = make_dataframe(url_dict_2016['bowling_avg'])\n",
    "#bat_avg_df_2016 = make_dataframe(url_dict_2016['batting_avg'])\n",
    "high_sr_df_2016 = make_dataframe(url_dict_2016['highest_sr_inn'])"
   ]
  },
  {
   "cell_type": "code",
   "execution_count": 13,
   "metadata": {
    "collapsed": true
   },
   "outputs": [],
   "source": [
    "kp_df_bat_2016.to_csv('IPL_MOST_RUNS\\Most_runs_2016_KP.csv')\n",
    "mi_df_bat_2016.to_csv('IPL_MOST_RUNS\\Most_runs_2016_MI.csv')\n",
    "rps_df_bat_2016.to_csv('IPL_MOST_RUNS\\Most_runs_2016_RPS.csv')\n",
    "dd_df_bat_2016.to_csv('IPL_MOST_RUNS\\Most_runs_2016_DD.csv')\n",
    "srh_df_bat_2016.to_csv('IPL_MOST_RUNS\\Most_runs_2016_SRH.csv')\n",
    "rcb_df_bat_2016.to_csv('IPL_MOST_RUNS\\Most_runs_2016_RCB.csv')\n",
    "gl_df_bat_2016.to_csv('IPL_MOST_RUNS\\Most_runs_2016_GL.csv')\n",
    "\n",
    "\n",
    "kp_df_bowl_2016.to_csv('IPL_MOST_WICKETS\\Most_wickets_2016_KP.csv')\n",
    "mi_df_bowl_2016.to_csv('IPL_MOST_WICKETS\\Most_wickets_2016_MI.csv')\n",
    "rps_df_bowl_2016.to_csv('IPL_MOST_WICKETS\\Most_wickets_2016_RPS.csv')\n",
    "dd_df_bowl_2016.to_csv('IPL_MOST_WICKETS\\Most_wickets_2016_DD.csv')\n",
    "srh_df_bowl_2016.to_csv('IPL_MOST_WICKETS\\Most_wickets_2016_SRH.csv')\n",
    "rcb_df_bowl_2016.to_csv('IPL_MOST_WICKETS\\Most_wickets_2016_RCB.csv')\n",
    "gl_df_bowl_2016.to_csv('IPL_MOST_WICKETS\\Most_wickets_2016_GL.csv')"
   ]
  },
  {
   "cell_type": "code",
   "execution_count": 14,
   "metadata": {
    "collapsed": true
   },
   "outputs": [],
   "source": [
    "bat_4n6_df_2016.to_csv('IPL_TEAMS_STAT\\Most_4n6_2016.csv')\n",
    "bow_mr_conc_df_2016.to_csv('IPL_TEAMS_STAT\\Most_runs_conc_2016.csv')\n",
    "high_sr_df_2016.to_csv('IPL_TEAMS_STAT\\Most_bat_sr_2016.csv')"
   ]
  },
  {
   "cell_type": "code",
   "execution_count": 7,
   "metadata": {
    "collapsed": true
   },
   "outputs": [],
   "source": [
    "url_dict_2015 = {'kp' : 'http://stats.espncricinfo.com/indian-premier-league-2017/engine/records/averages/batting_bowling_by_team.html?id=9657;team=4342;type=tournament',\n",
    "\n",
    "'mi' : 'http://stats.espncricinfo.com/indian-premier-league-2017/engine/records/averages/batting_bowling_by_team.html?id=9657;team=4346;type=tournament',\n",
    "\n",
    "'csk' : 'http://stats.espncricinfo.com/indian-premier-league-2017/engine/records/averages/batting_bowling_by_team.html?id=9657;team=4343;type=tournament',\n",
    "\n",
    "'rcb': 'http://stats.espncricinfo.com/indian-premier-league-2017/engine/records/averages/batting_bowling_by_team.html?id=9657;team=4340;type=tournament',\n",
    "\n",
    "'srh' : 'http://stats.espncricinfo.com/indian-premier-league-2017/engine/records/averages/batting_bowling_by_team.html?id=9657;team=5143;type=tournament',\n",
    "\n",
    "'dd' : 'http://stats.espncricinfo.com/indian-premier-league-2015/engine/records/averages/batting_bowling_by_team.html?id=9657;team=4344;type=tournament',\n",
    "\n",
    "'rr' : 'http://stats.espncricinfo.com/indian-premier-league-2017/engine/records/averages/batting_bowling_by_team.html?id=9657;team=4345;type=tournament',\n",
    "\n",
    "'kkr' : 'http://stats.espncricinfo.com/indian-premier-league-2017/engine/records/averages/batting_bowling_by_team.html?id=9657;team=4341;type=tournament',\n",
    "\n",
    "'batting_mr_4n6'  : 'http://stats.espncricinfo.com/indian-premier-league-2017/engine/records/batting/most_runs_from_fours_sixes_innings.html?id=9657;type=tournament',\n",
    "\n",
    "'bowling_mr_conceded' : 'http://stats.espncricinfo.com/indian-premier-league-2017/engine/records/bowling/most_runs_conceded_innings.html?id=9657;type=tournament',\n",
    "\n",
    "'bowling_avg' : 'http://stats.espncricinfo.com/indian-premier-league-2017/engine/records/averages/bowling.html?id=9657;type=tournament',\n",
    "\n",
    "'batting_avg' : 'http://stats.espncricinfo.com/indian-premier-league-2017/engine/records/averages/batting.html?id=9657;type=tournament',\n",
    "\n",
    "'highest_sr_inn' : 'http://stats.espncricinfo.com/indian-premier-league-2017/engine/records/batting/highest_strike_rate_innings.html?id=9657;type=tournament'         \n",
    "}"
   ]
  },
  {
   "cell_type": "code",
   "execution_count": 16,
   "metadata": {
    "collapsed": true
   },
   "outputs": [],
   "source": [
    "kp_df_bat_2015,kp_df_bowl_2015 = make_dataframe2(url_dict_2015['kp'])\n",
    "csk_df_bat_2015,csk_df_bowl_2015 = make_dataframe2(url_dict_2015['csk'])\n",
    "rcb_df_bat_2015,rcb_df_bowl_2015 = make_dataframe2(url_dict_2015['rcb'])\n",
    "dd_df_bat_2015,dd_df_bowl_2015 = make_dataframe2(url_dict_2015['dd'])\n",
    "srh_df_bat_2015,srh_df_bowl_2015 = make_dataframe2(url_dict_2015['srh'])\n",
    "rr_df_bat_2015,rr_df_bowl_2015 = make_dataframe2(url_dict_2015['rr'])\n",
    "mi_df_bat_2015,mi_df_bowl_2015 = make_dataframe2(url_dict_2015['mi'])"
   ]
  },
  {
   "cell_type": "code",
   "execution_count": 17,
   "metadata": {
    "collapsed": true
   },
   "outputs": [],
   "source": [
    "bat_4n6_df_2015 = make_dataframe(url_dict_2015['batting_mr_4n6'])\n",
    "bow_mr_conc_df_2015 = make_dataframe(url_dict_2015['bowling_mr_conceded'])\n",
    "#bow_avg_df_2015 = make_dataframe(url_dict_2015['bowling_avg'])\n",
    "#bat_avg_df_2015 = make_dataframe(url_dict_2015['batting_avg'])\n",
    "high_sr_df_2015 = make_dataframe(url_dict_2015['highest_sr_inn'])"
   ]
  },
  {
   "cell_type": "code",
   "execution_count": 18,
   "metadata": {
    "collapsed": true
   },
   "outputs": [],
   "source": [
    "kp_df_bat_2015.to_csv('IPL_MOST_RUNS\\Most_runs_2015_KP.csv')\n",
    "mi_df_bat_2015.to_csv('IPL_MOST_RUNS\\Most_runs_2015_MI.csv')\n",
    "csk_df_bat_2015.to_csv('IPL_MOST_RUNS\\Most_runs_2015_CSK.csv')\n",
    "dd_df_bat_2015.to_csv('IPL_MOST_RUNS\\Most_runs_2015_DD.csv')\n",
    "srh_df_bat_2015.to_csv('IPL_MOST_RUNS\\Most_runs_2015_SRH.csv')\n",
    "rcb_df_bat_2015.to_csv('IPL_MOST_RUNS\\Most_runs_2015_RCB.csv')\n",
    "rr_df_bat_2015.to_csv('IPL_MOST_RUNS\\Most_runs_2015_RR.csv')\n",
    "\n",
    "\n",
    "kp_df_bowl_2015.to_csv('IPL_MOST_WICKETS\\Most_wickets_2015_KP.csv')\n",
    "mi_df_bowl_2015.to_csv('IPL_MOST_WICKETS\\Most_wickets_2015_MI.csv')\n",
    "csk_df_bowl_2015.to_csv('IPL_MOST_WICKETS\\Most_wickets_2015_CSK.csv')\n",
    "dd_df_bowl_2015.to_csv('IPL_MOST_WICKETS\\Most_wickets_2015_DD.csv')\n",
    "srh_df_bowl_2015.to_csv('IPL_MOST_WICKETS\\Most_wickets_2015_SRH.csv')\n",
    "rcb_df_bowl_2015.to_csv('IPL_MOST_WICKETS\\Most_wickets_2015_RCB.csv')\n",
    "rr_df_bowl_2015.to_csv('IPL_MOST_WICKETS\\Most_wickets_2015_RR.csv')"
   ]
  },
  {
   "cell_type": "code",
   "execution_count": 19,
   "metadata": {
    "collapsed": true
   },
   "outputs": [],
   "source": [
    "bat_4n6_df_2015.to_csv('IPL_TEAMS_STAT\\Most_4n6_2015.csv')\n",
    "bow_mr_conc_df_2015.to_csv('IPL_TEAMS_STAT\\Most_runs_conc_2015.csv')\n",
    "high_sr_df_2015.to_csv('IPL_TEAMS_STAT\\Most_bat_sr_2015.csv')"
   ]
  },
  {
   "cell_type": "code",
   "execution_count": 8,
   "metadata": {
    "collapsed": true
   },
   "outputs": [],
   "source": [
    "url_dict_2014 = {'kp' : 'http://stats.espncricinfo.com/indian-premier-league-2017/engine/records/averages/batting_bowling_by_team.html?id=8827;team=4342;type=tournament',\n",
    "\n",
    "'mi' : 'http://stats.espncricinfo.com/indian-premier-league-2017/engine/records/averages/batting_bowling_by_team.html?id=8827;team=4346;type=tournament',\n",
    "\n",
    "'csk' : 'http://stats.espncricinfo.com/indian-premier-league-2017/engine/records/averages/batting_bowling_by_team.html?id=8827;team=4343;type=tournament',\n",
    "\n",
    "'rcb': 'http://stats.espncricinfo.com/indian-premier-league-2017/engine/records/averages/batting_bowling_by_team.html?id=8827;team=4340;type=tournament',\n",
    "\n",
    "'srh' : 'http://stats.espncricinfo.com/indian-premier-league-2017/engine/records/averages/batting_bowling_by_team.html?id=8827;team=5143;type=tournament',\n",
    "\n",
    "'dd' : 'http://stats.espncricinfo.com/indian-premier-league-2016/engine/records/averages/batting_bowling_by_team.html?id=8827;team=4344;type=tournament',\n",
    "\n",
    "'rr' : 'http://stats.espncricinfo.com/indian-premier-league-2017/engine/records/averages/batting_bowling_by_team.html?id=8827;team=4345;type=tournament',\n",
    "\n",
    "'kkr' : 'http://stats.espncricinfo.com/indian-premier-league-2017/engine/records/averages/batting_bowling_by_team.html?id=8827;team=4341;type=tournament',                 \n",
    "\n",
    "'batting_mr_4n6'  : 'http://stats.espncricinfo.com/indian-premier-league-2017/engine/records/batting/most_runs_from_fours_sixes_innings.html?id=8827;type=tournament',\n",
    "\n",
    "'bowling_mr_conceded' : 'http://stats.espncricinfo.com/indian-premier-league-2017/engine/records/bowling/most_runs_conceded_innings.html?id=8827;type=tournament',\n",
    "\n",
    "'bowling_avg' : 'http://stats.espncricinfo.com/indian-premier-league-2017/engine/records/averages/bowling.html?id=8827;type=tournament',\n",
    "\n",
    "'batting_avg' : 'http://stats.espncricinfo.com/indian-premier-league-2017/engine/records/averages/batting.html?id=8827;type=tournament',\n",
    "\n",
    "'highest_sr_inn' : 'http://stats.espncricinfo.com/indian-premier-league-2017/engine/records/batting/highest_strike_rate_innings.html?id=8827;type=tournament'         \n",
    "}"
   ]
  },
  {
   "cell_type": "code",
   "execution_count": 21,
   "metadata": {
    "collapsed": true
   },
   "outputs": [],
   "source": [
    "kp_df_bat_2014,kp_df_bowl_2014 = make_dataframe2(url_dict_2014['kp'])\n",
    "csk_df_bat_2014,csk_df_bowl_2014 = make_dataframe2(url_dict_2014['csk'])\n",
    "rcb_df_bat_2014,rcb_df_bowl_2014 = make_dataframe2(url_dict_2014['rcb'])\n",
    "dd_df_bat_2014,dd_df_bowl_2014 = make_dataframe2(url_dict_2014['dd'])\n",
    "srh_df_bat_2014,srh_df_bowl_2014 = make_dataframe2(url_dict_2014['srh'])\n",
    "rr_df_bat_2014,rr_df_bowl_2014 = make_dataframe2(url_dict_2014['rr'])\n",
    "mi_df_bat_2014,mi_df_bowl_2014 = make_dataframe2(url_dict_2014['mi'])\n"
   ]
  },
  {
   "cell_type": "code",
   "execution_count": 22,
   "metadata": {
    "collapsed": true
   },
   "outputs": [],
   "source": [
    "bat_4n6_df_2014 = make_dataframe(url_dict_2014['batting_mr_4n6'])\n",
    "bow_mr_conc_df_2014 = make_dataframe(url_dict_2014['bowling_mr_conceded'])\n",
    "#bow_avg_df_2014 = make_dataframe(url_dict_2014['bowling_avg'])\n",
    "#bat_avg_df_2014 = make_dataframe(url_dict_2014['batting_avg'])\n",
    "high_sr_df_2014 = make_dataframe(url_dict_2014['highest_sr_inn'])"
   ]
  },
  {
   "cell_type": "code",
   "execution_count": 23,
   "metadata": {
    "collapsed": true
   },
   "outputs": [],
   "source": [
    "kp_df_bat_2014.to_csv('IPL_MOST_RUNS\\Most_runs_2014_KP.csv')\n",
    "mi_df_bat_2014.to_csv('IPL_MOST_RUNS\\Most_runs_2014_MI.csv')\n",
    "csk_df_bat_2014.to_csv('IPL_MOST_RUNS\\Most_runs_2014_CSK.csv')\n",
    "dd_df_bat_2014.to_csv('IPL_MOST_RUNS\\Most_runs_2014_DD.csv')\n",
    "srh_df_bat_2014.to_csv('IPL_MOST_RUNS\\Most_runs_2014_SRH.csv')\n",
    "rcb_df_bat_2014.to_csv('IPL_MOST_RUNS\\Most_runs_2014_RCB.csv')\n",
    "rr_df_bat_2014.to_csv('IPL_MOST_RUNS\\Most_runs_2014_RR.csv')\n",
    "\n",
    "\n",
    "kp_df_bowl_2014.to_csv('IPL_MOST_WICKETS\\Most_wickets_2014_KP.csv')\n",
    "mi_df_bowl_2014.to_csv('IPL_MOST_WICKETS\\Most_wickets_2014_MI.csv')\n",
    "csk_df_bowl_2014.to_csv('IPL_MOST_WICKETS\\Most_wickets_2014_CSK.csv')\n",
    "dd_df_bowl_2014.to_csv('IPL_MOST_WICKETS\\Most_wickets_2014_DD.csv')\n",
    "srh_df_bowl_2014.to_csv('IPL_MOST_WICKETS\\Most_wickets_2014_SRH.csv')\n",
    "rcb_df_bowl_2014.to_csv('IPL_MOST_WICKETS\\Most_wickets_2014_RCB.csv')\n",
    "rr_df_bowl_2014.to_csv('IPL_MOST_WICKETS\\Most_wickets_2014_RR.csv')"
   ]
  },
  {
   "cell_type": "code",
   "execution_count": 24,
   "metadata": {
    "collapsed": true
   },
   "outputs": [],
   "source": [
    "bat_4n6_df_2014.to_csv('IPL_TEAMS_STAT\\Most_4n6_2014.csv')\n",
    "bow_mr_conc_df_2014.to_csv('IPL_TEAMS_STAT\\Most_runs_conc_2014.csv')\n",
    "high_sr_df_2014.to_csv('IPL_TEAMS_STAT\\Most_bat_sr_2014.csv')"
   ]
  },
  {
   "cell_type": "code",
   "execution_count": 9,
   "metadata": {
    "collapsed": true
   },
   "outputs": [],
   "source": [
    "url_dict_2013 = {'kp' : 'http://stats.espncricinfo.com/indian-premier-league-2017/engine/records/averages/batting_bowling_by_team.html?id=7720;team=4342;type=tournament',\n",
    "\n",
    "'mi' : 'http://stats.espncricinfo.com/indian-premier-league-2017/engine/records/averages/batting_bowling_by_team.html?id=7720;team=4346;type=tournament',\n",
    "\n",
    "'csk' : 'http://stats.espncricinfo.com/indian-premier-league-2017/engine/records/averages/batting_bowling_by_team.html?id=7720;team=4343;type=tournament',\n",
    "\n",
    "'rcb': 'http://stats.espncricinfo.com/indian-premier-league-2017/engine/records/averages/batting_bowling_by_team.html?id=7720;team=4340;type=tournament',\n",
    "\n",
    "'srh' : 'http://stats.espncricinfo.com/indian-premier-league-2017/engine/records/averages/batting_bowling_by_team.html?id=7720;team=5143;type=tournament',\n",
    "\n",
    "'dd' : 'http://stats.espncricinfo.com/indian-premier-league-2016/engine/records/averages/batting_bowling_by_team.html?id=7720;team=4344;type=tournament',\n",
    "\n",
    "'rr' : 'http://stats.espncricinfo.com/indian-premier-league-2017/engine/records/averages/batting_bowling_by_team.html?id=7720;team=4345;type=tournament',\n",
    "\n",
    "'pw' : 'http://stats.espncricinfo.com/indian-premier-league-2012/engine/records/averages/batting_bowling_by_team.html?id=7720;team=4787;type=tournament',\n",
    "\n",
    "'kkr' : 'http://stats.espncricinfo.com/indian-premier-league-2017/engine/records/averages/batting_bowling_by_team.html?id=7720;team=4341;type=tournament',\n",
    "                 \n",
    "'batting_mr_4n6'  : 'http://stats.espncricinfo.com/indian-premier-league-2017/engine/records/batting/most_runs_from_fours_sixes_innings.html?id=7720;type=tournament',\n",
    "\n",
    "'bowling_mr_conceded' : 'http://stats.espncricinfo.com/indian-premier-league-2017/engine/records/bowling/most_runs_conceded_innings.html?id=7720;type=tournament',\n",
    "\n",
    "'bowling_avg' : 'http://stats.espncricinfo.com/indian-premier-league-2017/engine/records/averages/bowling.html?id=7720;type=tournament',\n",
    "\n",
    "'batting_avg' : 'http://stats.espncricinfo.com/indian-premier-league-2017/engine/records/averages/batting.html?id=7720;type=tournament',\n",
    "\n",
    "'highest_sr_inn' : 'http://stats.espncricinfo.com/indian-premier-league-2017/engine/records/batting/highest_strike_rate_innings.html?id=7720;type=tournament'         \n",
    "}"
   ]
  },
  {
   "cell_type": "code",
   "execution_count": 26,
   "metadata": {
    "collapsed": true
   },
   "outputs": [],
   "source": [
    "kp_df_bat_2013,kp_df_bowl_2013 = make_dataframe2(url_dict_2013['kp'])\n",
    "csk_df_bat_2013,csk_df_bowl_2013 = make_dataframe2(url_dict_2013['csk'])\n",
    "rcb_df_bat_2013,rcb_df_bowl_2013 = make_dataframe2(url_dict_2013['rcb'])\n",
    "dd_df_bat_2013,dd_df_bowl_2013 = make_dataframe2(url_dict_2013['dd'])\n",
    "srh_df_bat_2013,srh_df_bowl_2013 = make_dataframe2(url_dict_2013['srh'])\n",
    "rr_df_bat_2013,rr_df_bowl_2013 = make_dataframe2(url_dict_2013['rr'])\n",
    "mi_df_bat_2013,mi_df_bowl_2013 = make_dataframe2(url_dict_2013['mi'])\n",
    "pw_df_bat_2013,pw_df_bowl_2013 = make_dataframe2(url_dict_2013['pw'])"
   ]
  },
  {
   "cell_type": "code",
   "execution_count": 27,
   "metadata": {
    "collapsed": true
   },
   "outputs": [],
   "source": [
    "bat_4n6_df_2013 = make_dataframe(url_dict_2013['batting_mr_4n6'])\n",
    "bow_mr_conc_df_2013 = make_dataframe(url_dict_2013['bowling_mr_conceded'])\n",
    "#bow_avg_df_2013 = make_dataframe(url_dict_2013['bowling_avg'])\n",
    "#bat_avg_df_2013 = make_dataframe(url_dict_2013['batting_avg'])\n",
    "high_sr_df_2013 = make_dataframe(url_dict_2013['highest_sr_inn'])"
   ]
  },
  {
   "cell_type": "code",
   "execution_count": 28,
   "metadata": {
    "collapsed": true
   },
   "outputs": [],
   "source": [
    "kp_df_bat_2013.to_csv('IPL_MOST_RUNS\\Most_runs_2013_KP.csv')\n",
    "mi_df_bat_2013.to_csv('IPL_MOST_RUNS\\Most_runs_2013_MI.csv')\n",
    "csk_df_bat_2013.to_csv('IPL_MOST_RUNS\\Most_runs_2013_CSK.csv')\n",
    "dd_df_bat_2013.to_csv('IPL_MOST_RUNS\\Most_runs_2013_DD.csv')\n",
    "srh_df_bat_2013.to_csv('IPL_MOST_RUNS\\Most_runs_2013_SRH.csv')\n",
    "rcb_df_bat_2013.to_csv('IPL_MOST_RUNS\\Most_runs_2013_RCB.csv')\n",
    "rr_df_bat_2013.to_csv('IPL_MOST_RUNS\\Most_runs_2013_RR.csv')\n",
    "pw_df_bat_2013.to_csv('IPL_MOST_RUNS\\Most_runs_2013_PW.csv')\n",
    "\n",
    "\n",
    "kp_df_bowl_2013.to_csv('IPL_MOST_WICKETS\\Most_wickets_2013_KP.csv')\n",
    "mi_df_bowl_2013.to_csv('IPL_MOST_WICKETS\\Most_wickets_2013_MI.csv')\n",
    "csk_df_bowl_2013.to_csv('IPL_MOST_WICKETS\\Most_wickets_2013_CSK.csv')\n",
    "dd_df_bowl_2013.to_csv('IPL_MOST_WICKETS\\Most_wickets_2013_DD.csv')\n",
    "srh_df_bowl_2013.to_csv('IPL_MOST_WICKETS\\Most_wickets_2013_SRH.csv')\n",
    "rcb_df_bowl_2013.to_csv('IPL_MOST_WICKETS\\Most_wickets_2013_RCB.csv')\n",
    "rr_df_bowl_2013.to_csv('IPL_MOST_WICKETS\\Most_wickets_2013_RR.csv')\n",
    "pw_df_bowl_2013.to_csv('IPL_MOST_WICKETS\\Most_wickets_2013_PW.csv')\n"
   ]
  },
  {
   "cell_type": "code",
   "execution_count": 29,
   "metadata": {
    "collapsed": true
   },
   "outputs": [],
   "source": [
    "bat_4n6_df_2013.to_csv('IPL_TEAMS_STAT\\Most_4n6_2013.csv')\n",
    "bow_mr_conc_df_2013.to_csv('IPL_TEAMS_STAT\\Most_runs_conc_2013.csv')\n",
    "high_sr_df_2013.to_csv('IPL_TEAMS_STAT\\Most_bat_sr_2013.csv')"
   ]
  },
  {
   "cell_type": "code",
   "execution_count": 10,
   "metadata": {
    "collapsed": true
   },
   "outputs": [],
   "source": [
    "url_dict_2012 = {'kp' : 'http://stats.espncricinfo.com/indian-premier-league-2017/engine/records/averages/batting_bowling_by_team.html?id=6680;team=4342;type=tournament',\n",
    "\n",
    "'mi' : 'http://stats.espncricinfo.com/indian-premier-league-2017/engine/records/averages/batting_bowling_by_team.html?id=6680;team=4346;type=tournament',\n",
    "\n",
    "'csk' : 'http://stats.espncricinfo.com/indian-premier-league-2017/engine/records/averages/batting_bowling_by_team.html?id=6680;team=4343;type=tournament',\n",
    "\n",
    "'rcb': 'http://stats.espncricinfo.com/indian-premier-league-2017/engine/records/averages/batting_bowling_by_team.html?id=6680;team=4340;type=tournament',\n",
    "\n",
    "'dc' : 'http://stats.espncricinfo.com/indian-premier-league-2017/engine/records/averages/batting_bowling_by_team.html?id=6680;team=4347;type=tournament',\n",
    "\n",
    "'dd' : 'http://stats.espncricinfo.com/indian-premier-league-2016/engine/records/averages/batting_bowling_by_team.html?id=6680;team=4344;type=tournament',\n",
    "\n",
    "'rr' : 'http://stats.espncricinfo.com/indian-premier-league-2017/engine/records/averages/batting_bowling_by_team.html?id=6680;team=4345;type=tournament',\n",
    "\n",
    "'pw' : 'http://stats.espncricinfo.com/indian-premier-league-2012/engine/records/averages/batting_bowling_by_team.html?id=6680;team=4787;type=tournament',\n",
    "\n",
    "'kkr' : 'http://stats.espncricinfo.com/indian-premier-league-2017/engine/records/averages/batting_bowling_by_team.html?id=6680;team=4341;type=tournament', \n",
    "                 \n",
    "'batting_mr_4n6'  : 'http://stats.espncricinfo.com/indian-premier-league-2017/engine/records/batting/most_runs_from_fours_sixes_innings.html?id=6680;type=tournament',\n",
    "\n",
    "'bowling_mr_conceded' : 'http://stats.espncricinfo.com/indian-premier-league-2017/engine/records/bowling/most_runs_conceded_innings.html?id=6680;type=tournament',\n",
    "\n",
    "'bowling_avg' : 'http://stats.espncricinfo.com/indian-premier-league-2017/engine/records/averages/bowling.html?id=6680;type=tournament',\n",
    "\n",
    "'batting_avg' : 'http://stats.espncricinfo.com/indian-premier-league-2017/engine/records/averages/batting.html?id=6680;type=tournament',\n",
    "\n",
    "'highest_sr_inn' : 'http://stats.espncricinfo.com/indian-premier-league-2017/engine/records/batting/highest_strike_rate_innings.html?id=6680;type=tournament'         \n",
    "}"
   ]
  },
  {
   "cell_type": "code",
   "execution_count": 31,
   "metadata": {
    "collapsed": true
   },
   "outputs": [],
   "source": [
    "kp_df_bat_2012,kp_df_bowl_2012 = make_dataframe2(url_dict_2012['kp'])\n",
    "csk_df_bat_2012,csk_df_bowl_2012 = make_dataframe2(url_dict_2012['csk'])\n",
    "rcb_df_bat_2012,rcb_df_bowl_2012 = make_dataframe2(url_dict_2012['rcb'])\n",
    "dd_df_bat_2012,dd_df_bowl_2012 = make_dataframe2(url_dict_2012['dd'])\n",
    "dc_df_bat_2012,dc_df_bowl_2012 = make_dataframe2(url_dict_2012['dc'])\n",
    "rr_df_bat_2012,rr_df_bowl_2012 = make_dataframe2(url_dict_2012['rr'])\n",
    "mi_df_bat_2012,mi_df_bowl_2012 = make_dataframe2(url_dict_2012['mi'])\n",
    "pw_df_bat_2012,pw_df_bowl_2012 = make_dataframe2(url_dict_2012['pw'])"
   ]
  },
  {
   "cell_type": "code",
   "execution_count": 32,
   "metadata": {
    "collapsed": true
   },
   "outputs": [],
   "source": [
    "bat_4n6_df_2012 = make_dataframe(url_dict_2012['batting_mr_4n6'])\n",
    "bow_mr_conc_df_2012 = make_dataframe(url_dict_2012['bowling_mr_conceded'])\n",
    "#bow_avg_df_2012 = make_dataframe(url_dict_2012['bowling_avg'])\n",
    "#bat_avg_df_2012 = make_dataframe(url_dict_2012['batting_avg'])\n",
    "high_sr_df_2012 = make_dataframe(url_dict_2012['highest_sr_inn'])"
   ]
  },
  {
   "cell_type": "code",
   "execution_count": 33,
   "metadata": {
    "collapsed": true
   },
   "outputs": [],
   "source": [
    "kp_df_bat_2012.to_csv('IPL_MOST_RUNS\\Most_runs_2012_KP.csv')\n",
    "mi_df_bat_2012.to_csv('IPL_MOST_RUNS\\Most_runs_2012_MI.csv')\n",
    "csk_df_bat_2012.to_csv('IPL_MOST_RUNS\\Most_runs_2012_CSK.csv')\n",
    "dd_df_bat_2012.to_csv('IPL_MOST_RUNS\\Most_runs_2012_DD.csv')\n",
    "dc_df_bat_2012.to_csv('IPL_MOST_RUNS\\Most_runs_2012_DC.csv')\n",
    "rcb_df_bat_2012.to_csv('IPL_MOST_RUNS\\Most_runs_2012_RCB.csv')\n",
    "rr_df_bat_2012.to_csv('IPL_MOST_RUNS\\Most_runs_2012_RR.csv')\n",
    "pw_df_bat_2012.to_csv('IPL_MOST_RUNS\\Most_runs_2012_PW.csv')\n",
    "\n",
    "\n",
    "kp_df_bowl_2012.to_csv('IPL_MOST_WICKETS\\Most_wickets_2012_KP.csv')\n",
    "mi_df_bowl_2012.to_csv('IPL_MOST_WICKETS\\Most_wickets_2012_MI.csv')\n",
    "csk_df_bowl_2012.to_csv('IPL_MOST_WICKETS\\Most_wickets_2012_CSK.csv')\n",
    "dd_df_bowl_2012.to_csv('IPL_MOST_WICKETS\\Most_wickets_2012_DD.csv')\n",
    "dc_df_bowl_2012.to_csv('IPL_MOST_WICKETS\\Most_wickets_2012_DC.csv')\n",
    "rcb_df_bowl_2012.to_csv('IPL_MOST_WICKETS\\Most_wickets_2012_RCB.csv')\n",
    "rr_df_bowl_2012.to_csv('IPL_MOST_WICKETS\\Most_wickets_2012_RR.csv')\n",
    "pw_df_bowl_2012.to_csv('IPL_MOST_WICKETS\\Most_wickets_2012_PW.csv')\n"
   ]
  },
  {
   "cell_type": "code",
   "execution_count": 34,
   "metadata": {
    "collapsed": true
   },
   "outputs": [],
   "source": [
    "bat_4n6_df_2012.to_csv('IPL_TEAMS_STAT\\Most_4n6_2012.csv')\n",
    "bow_mr_conc_df_2012.to_csv('IPL_TEAMS_STAT\\Most_runs_conc_2012.csv')\n",
    "high_sr_df_2012.to_csv('IPL_TEAMS_STAT\\Most_bat_sr_2012.csv')"
   ]
  },
  {
   "cell_type": "code",
   "execution_count": null,
   "metadata": {
    "collapsed": true
   },
   "outputs": [],
   "source": []
  }
 ],
 "metadata": {
  "kernelspec": {
   "display_name": "Python 3",
   "language": "python",
   "name": "python3"
  },
  "language_info": {
   "codemirror_mode": {
    "name": "ipython",
    "version": 3
   },
   "file_extension": ".py",
   "mimetype": "text/x-python",
   "name": "python",
   "nbconvert_exporter": "python",
   "pygments_lexer": "ipython3",
   "version": "3.5.3"
  }
 },
 "nbformat": 4,
 "nbformat_minor": 2
}
