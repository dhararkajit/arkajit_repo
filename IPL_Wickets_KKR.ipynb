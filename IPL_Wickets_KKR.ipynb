{
 "cells": [
  {
   "cell_type": "code",
   "execution_count": 2,
   "metadata": {
    "collapsed": true
   },
   "outputs": [],
   "source": [
    "from bs4 import BeautifulSoup\n",
    "import urllib\n",
    "import pandas as pd\n",
    "import numpy as np"
   ]
  },
  {
   "cell_type": "code",
   "execution_count": 1,
   "metadata": {
    "collapsed": true
   },
   "outputs": [],
   "source": [
    "def make_list(rows):\n",
    "    list_data = []\n",
    "    head =[row.find_all('th') for row in rows]\n",
    "    list_data.append([ele.text.strip() for ele in head[0]])\n",
    "    for row in rows:\n",
    "        cols = row.find_all('td')\n",
    "        cols = [ele.text.strip() for ele in cols]\n",
    "        list_data.append([ele for ele in cols if ele !=[]])\n",
    "    return list_data"
   ]
  },
  {
   "cell_type": "code",
   "execution_count": 5,
   "metadata": {},
   "outputs": [
    {
     "name": "stderr",
     "output_type": "stream",
     "text": [
      "C:\\Continuum\\Anaconda2\\envs\\TFENV\\lib\\site-packages\\bs4\\__init__.py:181: UserWarning: No parser was explicitly specified, so I'm using the best available HTML parser for this system (\"lxml\"). This usually isn't a problem, but if you run this code on another system, or in a different virtual environment, it may use a different parser and behave differently.\n",
      "\n",
      "The code that caused this warning is on line 193 of the file C:\\Continuum\\Anaconda2\\envs\\TFENV\\lib\\runpy.py. To get rid of this warning, change code that looks like this:\n",
      "\n",
      " BeautifulSoup(YOUR_MARKUP})\n",
      "\n",
      "to this:\n",
      "\n",
      " BeautifulSoup(YOUR_MARKUP, \"lxml\")\n",
      "\n",
      "  markup_type=markup_type))\n"
     ]
    }
   ],
   "source": [
    "url_most_wickets = r'http://stats.espncricinfo.com/indian-premier-league-2017/engine/records/bowling/most_wickets_career.html?id=11701;team=4341;type=tournament'\n",
    "most_wickets_2017 = urllib.request.urlopen(url_most_wickets)\n",
    "mw_html_2017 = BeautifulSoup(most_wickets_2017)\n",
    "mw_rows = mw_html_2017.find_all('tr')\n",
    "list_mw_2017 = make_list(mw_rows)\n",
    "df_mw_2017 = pd.DataFrame(list_mw_2017[2:90], columns = list_mw_2017[0])\n",
    "df_mw_2017.to_csv('Most_wickets_KKR_2017.csv')"
   ]
  },
  {
   "cell_type": "code",
   "execution_count": 5,
   "metadata": {},
   "outputs": [
    {
     "name": "stderr",
     "output_type": "stream",
     "text": [
      "C:\\Continuum\\Anaconda2\\envs\\TFENV\\lib\\site-packages\\bs4\\__init__.py:181: UserWarning: No parser was explicitly specified, so I'm using the best available HTML parser for this system (\"lxml\"). This usually isn't a problem, but if you run this code on another system, or in a different virtual environment, it may use a different parser and behave differently.\n",
      "\n",
      "The code that caused this warning is on line 193 of the file C:\\Continuum\\Anaconda2\\envs\\TFENV\\lib\\runpy.py. To get rid of this warning, change code that looks like this:\n",
      "\n",
      " BeautifulSoup(YOUR_MARKUP})\n",
      "\n",
      "to this:\n",
      "\n",
      " BeautifulSoup(YOUR_MARKUP, \"lxml\")\n",
      "\n",
      "  markup_type=markup_type))\n"
     ]
    }
   ],
   "source": [
    "url_most_wickets = r'http://stats.espncricinfo.com/indian-premier-league-2016/engine/records/bowling/most_wickets_career.html?id=11001;team=4341;type=tournament'\n",
    "most_wickets_2016 = urllib.request.urlopen(url_most_wickets)\n",
    "mw_html_2016 = BeautifulSoup(most_wickets_2016)\n",
    "mw_rows = mw_html_2016.find_all('tr')\n",
    "list_mw_2016 = make_list(mw_rows)\n",
    "df_mw_2016 = pd.DataFrame(list_mw_2016[2:90], columns = list_mw_2016[0])\n",
    "df_mw_2016.to_csv('Most_wickets_KKR_2016.csv')"
   ]
  },
  {
   "cell_type": "code",
   "execution_count": 6,
   "metadata": {},
   "outputs": [
    {
     "name": "stderr",
     "output_type": "stream",
     "text": [
      "C:\\Continuum\\Anaconda2\\envs\\TFENV\\lib\\site-packages\\bs4\\__init__.py:181: UserWarning: No parser was explicitly specified, so I'm using the best available HTML parser for this system (\"lxml\"). This usually isn't a problem, but if you run this code on another system, or in a different virtual environment, it may use a different parser and behave differently.\n",
      "\n",
      "The code that caused this warning is on line 193 of the file C:\\Continuum\\Anaconda2\\envs\\TFENV\\lib\\runpy.py. To get rid of this warning, change code that looks like this:\n",
      "\n",
      " BeautifulSoup(YOUR_MARKUP})\n",
      "\n",
      "to this:\n",
      "\n",
      " BeautifulSoup(YOUR_MARKUP, \"lxml\")\n",
      "\n",
      "  markup_type=markup_type))\n"
     ]
    }
   ],
   "source": [
    "url_most_wickets = r'http://stats.espncricinfo.com/indian-premier-league-2015/engine/records/bowling/most_wickets_career.html?id=9657;team=4341;type=tournament'\n",
    "most_wickets_2015 = urllib.request.urlopen(url_most_wickets)\n",
    "mw_html_2015 = BeautifulSoup(most_wickets_2015)\n",
    "mw_rows = mw_html_2015.find_all('tr')\n",
    "list_mw_2015 = make_list(mw_rows)\n",
    "df_mw_2015 = pd.DataFrame(list_mw_2015[2:90], columns = list_mw_2015[0])\n",
    "df_mw_2015.to_csv('Most_wickets_KKR_2015.csv')"
   ]
  },
  {
   "cell_type": "code",
   "execution_count": 10,
   "metadata": {},
   "outputs": [
    {
     "name": "stderr",
     "output_type": "stream",
     "text": [
      "C:\\Continuum\\Anaconda2\\envs\\TFENV\\lib\\site-packages\\bs4\\__init__.py:181: UserWarning: No parser was explicitly specified, so I'm using the best available HTML parser for this system (\"lxml\"). This usually isn't a problem, but if you run this code on another system, or in a different virtual environment, it may use a different parser and behave differently.\n",
      "\n",
      "The code that caused this warning is on line 193 of the file C:\\Continuum\\Anaconda2\\envs\\TFENV\\lib\\runpy.py. To get rid of this warning, change code that looks like this:\n",
      "\n",
      " BeautifulSoup(YOUR_MARKUP})\n",
      "\n",
      "to this:\n",
      "\n",
      " BeautifulSoup(YOUR_MARKUP, \"lxml\")\n",
      "\n",
      "  markup_type=markup_type))\n"
     ]
    }
   ],
   "source": [
    "url_most_wickets = r'http://stats.espncricinfo.com/indian-premier-league-2014/engine/records/bowling/most_wickets_career.html?id=8827;team=4341;type=tournament'\n",
    "most_wickets_2014 = urllib.request.urlopen(url_most_wickets)\n",
    "mw_html_2014 = BeautifulSoup(most_wickets_2014)\n",
    "mw_rows = mw_html_2014.find_all('tr')\n",
    "list_mw_2014 = make_list(mw_rows)\n",
    "df_mw_2014 = pd.DataFrame(list_mw_2014[2:90], columns = list_mw_2014[0])\n",
    "df_mw_2014.to_csv('Most_wickets_KKR_2014.csv')"
   ]
  },
  {
   "cell_type": "code",
   "execution_count": 12,
   "metadata": {},
   "outputs": [
    {
     "name": "stderr",
     "output_type": "stream",
     "text": [
      "C:\\Continuum\\Anaconda2\\envs\\TFENV\\lib\\site-packages\\bs4\\__init__.py:181: UserWarning: No parser was explicitly specified, so I'm using the best available HTML parser for this system (\"lxml\"). This usually isn't a problem, but if you run this code on another system, or in a different virtual environment, it may use a different parser and behave differently.\n",
      "\n",
      "The code that caused this warning is on line 193 of the file C:\\Continuum\\Anaconda2\\envs\\TFENV\\lib\\runpy.py. To get rid of this warning, change code that looks like this:\n",
      "\n",
      " BeautifulSoup(YOUR_MARKUP})\n",
      "\n",
      "to this:\n",
      "\n",
      " BeautifulSoup(YOUR_MARKUP, \"lxml\")\n",
      "\n",
      "  markup_type=markup_type))\n"
     ]
    }
   ],
   "source": [
    "url_most_wickets = r'http://stats.espncricinfo.com/indian-premier-league-2013/engine/records/bowling/most_wickets_career.html?id=7720;team=4341;type=tournament'\n",
    "most_wickets_2013 = urllib.request.urlopen(url_most_wickets)\n",
    "mw_html_2013 = BeautifulSoup(most_wickets_2013)\n",
    "mw_rows = mw_html_2013.find_all('tr')\n",
    "list_mw_2013 = make_list(mw_rows)\n",
    "df_mw_2013 = pd.DataFrame(list_mw_2013[2:90], columns = list_mw_2013[0])\n",
    "df_mw_2013.to_csv('Most_wickets_KKR_2013.csv')"
   ]
  },
  {
   "cell_type": "code",
   "execution_count": 13,
   "metadata": {},
   "outputs": [
    {
     "name": "stderr",
     "output_type": "stream",
     "text": [
      "C:\\Continuum\\Anaconda2\\envs\\TFENV\\lib\\site-packages\\bs4\\__init__.py:181: UserWarning: No parser was explicitly specified, so I'm using the best available HTML parser for this system (\"lxml\"). This usually isn't a problem, but if you run this code on another system, or in a different virtual environment, it may use a different parser and behave differently.\n",
      "\n",
      "The code that caused this warning is on line 193 of the file C:\\Continuum\\Anaconda2\\envs\\TFENV\\lib\\runpy.py. To get rid of this warning, change code that looks like this:\n",
      "\n",
      " BeautifulSoup(YOUR_MARKUP})\n",
      "\n",
      "to this:\n",
      "\n",
      " BeautifulSoup(YOUR_MARKUP, \"lxml\")\n",
      "\n",
      "  markup_type=markup_type))\n"
     ]
    }
   ],
   "source": [
    "url_most_wickets = r'http://stats.espncricinfo.com/indian-premier-league-2012/engine/records/bowling/most_wickets_career.html?id=6680;team=4341;type=tournament'\n",
    "most_wickets_2012 = urllib.request.urlopen(url_most_wickets)\n",
    "mw_html_2012 = BeautifulSoup(most_wickets_2012)\n",
    "mw_rows = mw_html_2012.find_all('tr')\n",
    "list_mw_2012 = make_list(mw_rows)\n",
    "df_mw_2012 = pd.DataFrame(list_mw_2012[2:90], columns = list_mw_2012[0])\n",
    "df_mw_2012.to_csv('Most_wickets_KKR_2012.csv')"
   ]
  },
  {
   "cell_type": "code",
   "execution_count": 15,
   "metadata": {},
   "outputs": [
    {
     "name": "stderr",
     "output_type": "stream",
     "text": [
      "C:\\Continuum\\Anaconda2\\envs\\TFENV\\lib\\site-packages\\bs4\\__init__.py:181: UserWarning: No parser was explicitly specified, so I'm using the best available HTML parser for this system (\"lxml\"). This usually isn't a problem, but if you run this code on another system, or in a different virtual environment, it may use a different parser and behave differently.\n",
      "\n",
      "The code that caused this warning is on line 193 of the file C:\\Continuum\\Anaconda2\\envs\\TFENV\\lib\\runpy.py. To get rid of this warning, change code that looks like this:\n",
      "\n",
      " BeautifulSoup(YOUR_MARKUP})\n",
      "\n",
      "to this:\n",
      "\n",
      " BeautifulSoup(YOUR_MARKUP, \"lxml\")\n",
      "\n",
      "  markup_type=markup_type))\n"
     ]
    }
   ],
   "source": [
    "url_most_wickets = r'http://stats.espncricinfo.com/indian-premier-league-2011/engine/records/bowling/most_wickets_career.html?id=5969;team=4341;type=tournament'\n",
    "most_wickets_2011 = urllib.request.urlopen(url_most_wickets)\n",
    "mw_html_2011 = BeautifulSoup(most_wickets_2011)\n",
    "mw_rows = mw_html_2011.find_all('tr')\n",
    "list_mw_2011 = make_list(mw_rows)\n",
    "df_mw_2011 = pd.DataFrame(list_mw_2011[2:90], columns = list_mw_2011[0])\n",
    "df_mw_2011.to_csv('Most_wickets_KKR_2011.csv')"
   ]
  },
  {
   "cell_type": "code",
   "execution_count": 4,
   "metadata": {},
   "outputs": [
    {
     "name": "stderr",
     "output_type": "stream",
     "text": [
      "C:\\Continuum\\Anaconda2\\envs\\TFENV\\lib\\site-packages\\bs4\\__init__.py:181: UserWarning: No parser was explicitly specified, so I'm using the best available HTML parser for this system (\"lxml\"). This usually isn't a problem, but if you run this code on another system, or in a different virtual environment, it may use a different parser and behave differently.\n",
      "\n",
      "The code that caused this warning is on line 193 of the file C:\\Continuum\\Anaconda2\\envs\\TFENV\\lib\\runpy.py. To get rid of this warning, change code that looks like this:\n",
      "\n",
      " BeautifulSoup(YOUR_MARKUP})\n",
      "\n",
      "to this:\n",
      "\n",
      " BeautifulSoup(YOUR_MARKUP, \"lxml\")\n",
      "\n",
      "  markup_type=markup_type))\n"
     ]
    }
   ],
   "source": [
    "url_most_wickets = r'http://stats.espncricinfo.com/ipl2010/engine/records/bowling/most_wickets_career.html?id=5319;team=4341;type=tournament'\n",
    "most_wickets_2010 = urllib.request.urlopen(url_most_wickets)\n",
    "mw_html_2010 = BeautifulSoup(most_wickets_2010)\n",
    "mw_rows = mw_html_2010.find_all('tr')\n",
    "list_mw_2010 = make_list(mw_rows)\n",
    "df_mw_2010 = pd.DataFrame(list_mw_2010[2:90], columns = list_mw_2010[0])\n",
    "df_mw_2010.to_csv('Most_wickets_KKR_2010.csv')"
   ]
  },
  {
   "cell_type": "code",
   "execution_count": 17,
   "metadata": {},
   "outputs": [
    {
     "name": "stderr",
     "output_type": "stream",
     "text": [
      "C:\\Continuum\\Anaconda2\\envs\\TFENV\\lib\\site-packages\\bs4\\__init__.py:181: UserWarning: No parser was explicitly specified, so I'm using the best available HTML parser for this system (\"lxml\"). This usually isn't a problem, but if you run this code on another system, or in a different virtual environment, it may use a different parser and behave differently.\n",
      "\n",
      "The code that caused this warning is on line 193 of the file C:\\Continuum\\Anaconda2\\envs\\TFENV\\lib\\runpy.py. To get rid of this warning, change code that looks like this:\n",
      "\n",
      " BeautifulSoup(YOUR_MARKUP})\n",
      "\n",
      "to this:\n",
      "\n",
      " BeautifulSoup(YOUR_MARKUP, \"lxml\")\n",
      "\n",
      "  markup_type=markup_type))\n"
     ]
    }
   ],
   "source": [
    "url_most_wickets = r'http://stats.espncricinfo.com/ipl2009/engine/records/bowling/most_wickets_career.html?id=4801;team=4341;type=tournament'\n",
    "most_wickets_2009 = urllib.request.urlopen(url_most_wickets)\n",
    "mw_html_2009 = BeautifulSoup(most_wickets_2009)\n",
    "mw_rows = mw_html_2009.find_all('tr')\n",
    "list_mw_2009 = make_list(mw_rows)\n",
    "df_mw_2009 = pd.DataFrame(list_mw_2009[2:90], columns = list_mw_2009[0])\n",
    "df_mw_2009.to_csv('Most_wickets_KKR_2009.csv')"
   ]
  },
  {
   "cell_type": "code",
   "execution_count": 18,
   "metadata": {},
   "outputs": [
    {
     "name": "stderr",
     "output_type": "stream",
     "text": [
      "C:\\Continuum\\Anaconda2\\envs\\TFENV\\lib\\site-packages\\bs4\\__init__.py:181: UserWarning: No parser was explicitly specified, so I'm using the best available HTML parser for this system (\"lxml\"). This usually isn't a problem, but if you run this code on another system, or in a different virtual environment, it may use a different parser and behave differently.\n",
      "\n",
      "The code that caused this warning is on line 193 of the file C:\\Continuum\\Anaconda2\\envs\\TFENV\\lib\\runpy.py. To get rid of this warning, change code that looks like this:\n",
      "\n",
      " BeautifulSoup(YOUR_MARKUP})\n",
      "\n",
      "to this:\n",
      "\n",
      " BeautifulSoup(YOUR_MARKUP, \"lxml\")\n",
      "\n",
      "  markup_type=markup_type))\n"
     ]
    }
   ],
   "source": [
    "url_most_wickets = r'http://stats.espncricinfo.com/ipl/engine/records/bowling/most_wickets_career.html?id=3519;team=4341;type=tournament'\n",
    "most_wickets_2008 = urllib.request.urlopen(url_most_wickets)\n",
    "mw_html_2008 = BeautifulSoup(most_wickets_2008)\n",
    "mw_rows = mw_html_2008.find_all('tr')\n",
    "list_mw_2008 = make_list(mw_rows)\n",
    "df_mw_2008 = pd.DataFrame(list_mw_2008[2:90], columns = list_mw_2008[0])\n",
    "df_mw_2008.to_csv('Most_wickets_KKR_2008.csv')"
   ]
  },
  {
   "cell_type": "code",
   "execution_count": null,
   "metadata": {
    "collapsed": true
   },
   "outputs": [],
   "source": []
  }
 ],
 "metadata": {
  "kernelspec": {
   "display_name": "Python 3",
   "language": "python",
   "name": "python3"
  },
  "language_info": {
   "codemirror_mode": {
    "name": "ipython",
    "version": 3
   },
   "file_extension": ".py",
   "mimetype": "text/x-python",
   "name": "python",
   "nbconvert_exporter": "python",
   "pygments_lexer": "ipython3",
   "version": "3.5.3"
  }
 },
 "nbformat": 4,
 "nbformat_minor": 2
}
