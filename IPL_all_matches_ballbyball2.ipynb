{
 "cells": [
  {
   "cell_type": "code",
   "execution_count": 4,
   "metadata": {},
   "outputs": [],
   "source": [
    "import yaml\n",
    "import os\n",
    "os.chdir('C:\\\\Users\\\\401738\\\\Downloads\\\\ipl\\\\')"
   ]
  },
  {
   "cell_type": "markdown",
   "metadata": {},
   "source": [
    "FUNCTION to load each YAML files for a particular IPL season. #start and #end variables are the starting and ending file names "
   ]
  },
  {
   "cell_type": "code",
   "execution_count": 5,
   "metadata": {
    "collapsed": true
   },
   "outputs": [],
   "source": [
    "def load_data(start , end ):\n",
    "    matches = []\n",
    "    for i in range(start, end):\n",
    "        if os.path.isfile('./'+str(i)+'.yaml'):\n",
    "            with open('./'+str(i)+'.yaml','r')as f:\n",
    "                doc= yaml.load(f)\n",
    "                matches.append(doc)\n",
    "    return matches\n",
    "    "
   ]
  },
  {
   "cell_type": "markdown",
   "metadata": {},
   "source": [
    "Calling the above function and passing the start and end file names to load the data."
   ]
  },
  {
   "cell_type": "code",
   "execution_count": 6,
   "metadata": {
    "collapsed": true
   },
   "outputs": [],
   "source": [
    "m_2008 = load_data(335982,336041)"
   ]
  },
  {
   "cell_type": "code",
   "execution_count": 7,
   "metadata": {
    "collapsed": true
   },
   "outputs": [],
   "source": [
    "m_2009 = load_data(392181,392240 )"
   ]
  },
  {
   "cell_type": "code",
   "execution_count": 8,
   "metadata": {
    "collapsed": true
   },
   "outputs": [],
   "source": [
    "m_2010 = load_data(419106,419166)"
   ]
  },
  {
   "cell_type": "code",
   "execution_count": 9,
   "metadata": {
    "collapsed": true
   },
   "outputs": [],
   "source": [
    "m_2011 = load_data(501198, 501272)"
   ]
  },
  {
   "cell_type": "code",
   "execution_count": 10,
   "metadata": {
    "collapsed": true
   },
   "outputs": [],
   "source": [
    "m_2012 = load_data(548306, 548382)"
   ]
  },
  {
   "cell_type": "code",
   "execution_count": 11,
   "metadata": {
    "collapsed": true
   },
   "outputs": [],
   "source": [
    "m_2013 = load_data(597998, 598074)"
   ]
  },
  {
   "cell_type": "code",
   "execution_count": 12,
   "metadata": {
    "collapsed": true
   },
   "outputs": [],
   "source": [
    "m_2014 = load_data(729279, 734050)"
   ]
  },
  {
   "cell_type": "code",
   "execution_count": 13,
   "metadata": {
    "collapsed": true
   },
   "outputs": [],
   "source": [
    "m_2015 = load_data(829705, 829824)"
   ]
  },
  {
   "cell_type": "code",
   "execution_count": 14,
   "metadata": {
    "collapsed": true
   },
   "outputs": [],
   "source": [
    "m_2016 = load_data(980901, 981020)"
   ]
  },
  {
   "cell_type": "code",
   "execution_count": 15,
   "metadata": {
    "collapsed": true
   },
   "outputs": [],
   "source": [
    "m_2017 = load_data(1082591, 1082651)"
   ]
  },
  {
   "cell_type": "markdown",
   "metadata": {},
   "source": [
    "The following function extracts important information from each match of a season,viz runs per over , wickets per over and total runs in each innings in the form of a DICTIONARY object. You need to only pass the innings dict."
   ]
  },
  {
   "cell_type": "code",
   "execution_count": 16,
   "metadata": {
    "collapsed": true
   },
   "outputs": [],
   "source": [
    "def extract_data(innings):\n",
    "    total_runs =0\n",
    "    k=0.0\n",
    "    prev=0.0\n",
    "    over_runs = {}\n",
    "    over_wickets = {}\n",
    "    runs= 0\n",
    "    w_counter = 0\n",
    "    for i in range(0,len(innings)):\n",
    "        #if (i==0):\n",
    "            #print ('Match Started: Over # 1')\n",
    "        for k , v in innings[i].items():\n",
    "            if ((prev//1) != (k//1)):\n",
    "                #print ('Over #', int((prev//1) +1),' completed')\n",
    "                #print ('Runs Scored #',runs)\n",
    "                runs+= int(innings[i][k]['runs']['total'])\n",
    "                if ('wicket' in innings[i][k]):\n",
    "                    w_counter+=1\n",
    "                    over_wickets[k] = [w_counter,innings[i][k]['wicket']['player_out'],innings[i][k]['wicket']['kind']]\n",
    "                    #print (' Over -', k,'Out!!','wicket #',w_counter, innings[i][k]['wicket']['player_out'],innings[i][k]['wicket']['kind'])\n",
    "                over_runs[int((prev//1) +1)]= int(runs)\n",
    "                #print ('Over #', int((k//1) +1),' started and running')\n",
    "                runs = 0\n",
    "            else:\n",
    "                #print ('Over #', int((prev//1) +1),' running')\n",
    "                runs+= int(innings[i][k]['runs']['total'])\n",
    "                if ('wicket' in innings[i][k]):\n",
    "                    w_counter+=1\n",
    "                    over_wickets[k] = [w_counter,innings[i][k]['wicket']['player_out'],innings[i][k]['wicket']['kind']]\n",
    "                    #rint (' Over -', k,'Out!!','wicket #',w_counter, innings[i][k]['wicket']['player_out'],innings[i][k]['wicket']['kind'])\n",
    "            prev = k\n",
    "            total_runs+= innings[i][k]['runs']['total']\n",
    "        if( i == len(innings) -1 ):\n",
    "            #print ('Over #', int((prev//1) +1),' completed')\n",
    "            #print ('Runs Scored #',runs)\n",
    "            over_runs[int((prev//1) +1)]= int(runs)\n",
    "    return over_runs , over_wickets , total_runs"
   ]
  },
  {
   "cell_type": "markdown",
   "metadata": {},
   "source": [
    "This function wraps the DICTIONARY objects created by the above function for a match and stores the same for all the matches in a season into a LIST object."
   ]
  },
  {
   "cell_type": "code",
   "execution_count": 17,
   "metadata": {
    "collapsed": true
   },
   "outputs": [],
   "source": [
    "def generate_data(matches):\n",
    "    rpo_innings1 = []\n",
    "    rpo_innings2 = []\n",
    "    wpo_innings1 = []\n",
    "    wpo_innings2 = []\n",
    "    tr_innings1 = []\n",
    "    tr_innings2 = []\n",
    "    team_innings1 = []\n",
    "    team_innings2 = []\n",
    "    misc_info = []\n",
    "    \n",
    "    for i in range(0,len(matches)):\n",
    "        \n",
    "        if (len(matches[i]['innings']) > 1):\n",
    "            \n",
    "            rpo_i1 , wpo_i1 , tr_i1 = extract_data(matches[i]['innings'][0]['1st innings']['deliveries'])\n",
    "            rpo_innings1.append(rpo_i1)\n",
    "            wpo_innings1.append(wpo_i1)\n",
    "            tr_innings1.append(tr_i1)\n",
    "            team_innings1.append(matches[i]['innings'][0]['1st innings']['team'])\n",
    "        \n",
    "            rpo_i2 , wpo_i2 , tr_i2 = extract_data(matches[i]['innings'][1]['2nd innings']['deliveries'])\n",
    "            rpo_innings2.append(rpo_i2)\n",
    "            wpo_innings2.append(wpo_i2)\n",
    "            tr_innings2.append(tr_i2)\n",
    "            team_innings2.append(matches[i]['innings'][1]['2nd innings']['team'])\n",
    "           \n",
    "            \n",
    "            misc_info.append([matches[i]['info']['venue'],matches[i]['info']['toss']['winner'],matches[i]['info']['toss']['decision'],matches[i]['info']['outcome']])\n",
    "        else :\n",
    "            pass\n",
    "            \n",
    "    return rpo_innings1, rpo_innings2 , wpo_innings1 , wpo_innings2 , tr_innings1, tr_innings2, team_innings1 , team_innings2,misc_info"
   ]
  },
  {
   "cell_type": "markdown",
   "metadata": {},
   "source": [
    "Calling the above function and creating a series of LIST objects."
   ]
  },
  {
   "cell_type": "code",
   "execution_count": 18,
   "metadata": {},
   "outputs": [],
   "source": [
    "rpo_i1_2008,rpo_i2_2008,wpo_i1_2008,wpo_i2_2008,tr_i1_2008,tr_i2_2008,team_i1_2008,team_i2_2008,misc_info_2008 = generate_data(m_2008)\n",
    "rpo_i1_2009,rpo_i2_2009,wpo_i1_2009,wpo_i2_2009,tr_i1_2009,tr_i2_2009,team_i1_2009,team_i2_2009,misc_info_2009 = generate_data(m_2009)\n",
    "rpo_i1_2010,rpo_i2_2010,wpo_i1_2010,wpo_i2_2010,tr_i1_2010,tr_i2_2010,team_i1_2010,team_i2_2010,misc_info_2010 = generate_data(m_2010)\n",
    "rpo_i1_2011,rpo_i2_2011,wpo_i1_2011,wpo_i2_2011,tr_i1_2011,tr_i2_2011,team_i1_2011,team_i2_2011,misc_info_2011 = generate_data(m_2011)\n",
    "rpo_i1_2012,rpo_i2_2012,wpo_i1_2012,wpo_i2_2012,tr_i1_2012,tr_i2_2012,team_i1_2012,team_i2_2012,misc_info_2012 = generate_data(m_2012)\n",
    "rpo_i1_2013,rpo_i2_2013,wpo_i1_2013,wpo_i2_2013,tr_i1_2013,tr_i2_2013,team_i1_2013,team_i2_2013,misc_info_2013 = generate_data(m_2013)\n",
    "rpo_i1_2014,rpo_i2_2014,wpo_i1_2014,wpo_i2_2014,tr_i1_2014,tr_i2_2014,team_i1_2014,team_i2_2014,misc_info_2014 = generate_data(m_2014)\n",
    "rpo_i1_2015,rpo_i2_2015,wpo_i1_2015,wpo_i2_2015,tr_i1_2015,tr_i2_2015,team_i1_2015,team_i2_2015,misc_info_2015 = generate_data(m_2015)\n",
    "rpo_i1_2016,rpo_i2_2016,wpo_i1_2016,wpo_i2_2016,tr_i1_2016,tr_i2_2016,team_i1_2016,team_i2_2016,misc_info_2016 = generate_data(m_2016)\n",
    "rpo_i1_2017,rpo_i2_2017,wpo_i1_2017,wpo_i2_2017,tr_i1_2017,tr_i2_2017,team_i1_2017,team_i2_2017,misc_info_2017 = generate_data(m_2017)"
   ]
  },
  {
   "cell_type": "code",
   "execution_count": 19,
   "metadata": {
    "collapsed": true
   },
   "outputs": [],
   "source": [
    "#import matplotlib.pyplot as plt\n",
    "import pandas as pd\n",
    "import numpy as np"
   ]
  },
  {
   "cell_type": "markdown",
   "metadata": {},
   "source": [
    "This function takes wickets per over dictionary created earlier, and returns the total wickets that has fallen during a match for a particular team."
   ]
  },
  {
   "cell_type": "code",
   "execution_count": 20,
   "metadata": {
    "collapsed": true
   },
   "outputs": [],
   "source": [
    "def add_wpo(wpo):  \n",
    "    wickets= []\n",
    "    for i in range(len(wpo)):\n",
    "        wickets.append([(int(k//1) + 1) for k, v in wpo[i].items()])\n",
    "    wickets_full=[]\n",
    "    for li in wickets:\n",
    "        wickets_full.append([0,0,0,0,0,0,0,0,0,0,0,0,0,0,0,0,0,0,0,0])\n",
    "        for i in li:\n",
    "            if i in range(1,21):\n",
    "                wickets_full[wickets.index(li)][i-1] += 1 \n",
    "    return wickets_full"
   ]
  },
  {
   "cell_type": "markdown",
   "metadata": {},
   "source": [
    "This function below creates a full Dataset combining all the above extracted information on an innings level."
   ]
  },
  {
   "cell_type": "code",
   "execution_count": 21,
   "metadata": {
    "collapsed": true
   },
   "outputs": [],
   "source": [
    "def create_full_dataset(rpo_inn, tr_inn , wpo_inn,team_inn):\n",
    "    rpo_inn_df = pd.DataFrame.from_dict(rpo_inn)\n",
    "    tr_inn_df = pd.DataFrame(tr_inn, columns =['Total'])\n",
    "    w_inn_df = pd.DataFrame([len(i) for i in wpo_inn], columns = ['wickets'])\n",
    "    runs_wickets_inn_df = w_inn_df.join(tr_inn_df)\n",
    "\n",
    "    wickets_full = add_wpo(wpo_inn)\n",
    "    wickets_df = pd.DataFrame(wickets_full,columns=['wickts_1','wickts_2','wickts_3','wickts_4','wickts_5','wickts_6',\n",
    "                     'wickts_7','wickts_8','wickts_9','wickts_10','wickts_11','wickts_12','wickts_13','wickts_14',\n",
    "                     'wickts_15','wickts_16','wickts_17','wickts_18','wickts_19','wickts_20'])\n",
    "    inn_df = rpo_inn_df.join(wickets_df)\n",
    "    inn_df = inn_df.join(runs_wickets_inn_df)\n",
    "    inn_df.columns = ['runs_1','runs_2','runs_3','runs_4','runs_5','runs_6','runs_7','runs_8','runs_9','runs_10','runs_11','runs_12',\n",
    "                     'runs_13','runs_14','runs_15','runs_16','runs_17','runs_18','runs_19','runs_20','wickts_1','wickts_2',\n",
    "                     'wickts_3','wickts_4','wickts_5','wickts_6','wickts_7','wickts_8','wickts_9','wickts_10','wickts_11',\n",
    "                     'wickts_12','wickts_13','wickts_14','wickts_15','wickts_16','wickts_17','wickts_18','wickts_19','wickts_20',\n",
    "                     'wickets','Total']\n",
    "    inn_df = inn_df.join(pd.DataFrame(team_inn,columns = ['batting_team']))\n",
    "    return inn_df"
   ]
  },
  {
   "cell_type": "code",
   "execution_count": 55,
   "metadata": {},
   "outputs": [],
   "source": [
    "i1_df_2008 = create_full_dataset(rpo_i1_2008, tr_i1_2008, wpo_i1_2008,team_i1_2008)\n"
   ]
  },
  {
   "cell_type": "code",
   "execution_count": 56,
   "metadata": {
    "collapsed": true
   },
   "outputs": [],
   "source": [
    "i1_df_2009 = create_full_dataset(rpo_i1_2009, tr_i1_2009, wpo_i1_2009,team_i1_2009)"
   ]
  },
  {
   "cell_type": "code",
   "execution_count": 25,
   "metadata": {},
   "outputs": [],
   "source": [
    "# substituting no results with NA\n",
    "for n in range(0,len(misc_info_2008)):\n",
    "    if 'winner' in misc_info_2008[n][3].keys():\n",
    "        misc_info_2008[n][3] = misc_info_2008[n][3]['winner']\n",
    "    else : misc_info_2008[n][3] = 'NA'"
   ]
  },
  {
   "cell_type": "code",
   "execution_count": 26,
   "metadata": {
    "collapsed": true
   },
   "outputs": [],
   "source": [
    "# substituting no results with NA\n",
    "for n in range(0,len(misc_info_2009)):\n",
    "    if 'winner' in misc_info_2009[n][3].keys():\n",
    "        misc_info_2009[n][3] = misc_info_2009[n][3]['winner']\n",
    "    else : misc_info_2009[n][3] = 'NA'"
   ]
  },
  {
   "cell_type": "code",
   "execution_count": 57,
   "metadata": {
    "collapsed": true
   },
   "outputs": [],
   "source": [
    "misc_df_2008 = pd.DataFrame(misc_info_2008, columns =['venue','toss_winner','toss_decision','match_winner'])\n"
   ]
  },
  {
   "cell_type": "code",
   "execution_count": 58,
   "metadata": {
    "collapsed": true
   },
   "outputs": [],
   "source": [
    "misc_df_2009 = pd.DataFrame(misc_info_2009, columns =['venue','toss_winner','toss_decision','match_winner'])"
   ]
  },
  {
   "cell_type": "code",
   "execution_count": 60,
   "metadata": {},
   "outputs": [],
   "source": [
    "misc_df_2008.head(5)\n",
    "df_1st_inn_2008 = pd.concat([i1_df_2008,misc_df_2008],axis =1)"
   ]
  },
  {
   "cell_type": "code",
   "execution_count": 61,
   "metadata": {
    "collapsed": true
   },
   "outputs": [],
   "source": [
    "df_1st_inn_2009 = pd.concat([i1_df_2009,misc_df_2009],axis =1)"
   ]
  },
  {
   "cell_type": "code",
   "execution_count": 63,
   "metadata": {
    "collapsed": true
   },
   "outputs": [],
   "source": [
    "#df_1st_inn_2008[['toss_winner','toss_decision','match_winner','winner']]\n",
    "df_1st_inn_2008 = df_1st_inn_2008[['toss_winner','toss_decision','match_winner','batting_team','wickets','Total','venue']]"
   ]
  },
  {
   "cell_type": "code",
   "execution_count": 64,
   "metadata": {
    "collapsed": true
   },
   "outputs": [],
   "source": [
    "df_1st_inn_2009 = df_1st_inn_2009[['toss_winner','toss_decision','match_winner','batting_team','wickets','Total','venue']]"
   ]
  },
  {
   "cell_type": "code",
   "execution_count": 72,
   "metadata": {},
   "outputs": [
    {
     "name": "stderr",
     "output_type": "stream",
     "text": [
      "C:\\Continuum\\Anaconda2\\envs\\TFENV\\lib\\site-packages\\ipykernel_launcher.py:1: SettingWithCopyWarning: \n",
      "A value is trying to be set on a copy of a slice from a DataFrame.\n",
      "Try using .loc[row_indexer,col_indexer] = value instead\n",
      "\n",
      "See the caveats in the documentation: http://pandas.pydata.org/pandas-docs/stable/indexing.html#indexing-view-versus-copy\n",
      "  \"\"\"Entry point for launching an IPython kernel.\n",
      "C:\\Continuum\\Anaconda2\\envs\\TFENV\\lib\\site-packages\\pandas\\core\\indexing.py:517: SettingWithCopyWarning: \n",
      "A value is trying to be set on a copy of a slice from a DataFrame.\n",
      "Try using .loc[row_indexer,col_indexer] = value instead\n",
      "\n",
      "See the caveats in the documentation: http://pandas.pydata.org/pandas-docs/stable/indexing.html#indexing-view-versus-copy\n",
      "  self.obj[item] = s\n"
     ]
    }
   ],
   "source": [
    "df_1st_inn_2008['winner']=0\n",
    "\n",
    "df_1st_inn_2008.loc[df_1st_inn_2008['match_winner'] == df_1st_inn_2008['batting_team'],'winner'] = 1"
   ]
  },
  {
   "cell_type": "code",
   "execution_count": 73,
   "metadata": {
    "collapsed": true
   },
   "outputs": [],
   "source": [
    "df_1st_inn_2009['winner']=0\n",
    "df_1st_inn_2009.loc[df_1st_inn_2009['match_winner'] == df_1st_inn_2009['batting_team'],'winner'] = 1"
   ]
  },
  {
   "cell_type": "code",
   "execution_count": 75,
   "metadata": {},
   "outputs": [
    {
     "data": {
      "text/plain": [
       "Index(['toss_winner', 'toss_decision', 'match_winner', 'batting_team',\n",
       "       'wickets', 'Total', 'venue', 'winner'],\n",
       "      dtype='object')"
      ]
     },
     "execution_count": 75,
     "metadata": {},
     "output_type": "execute_result"
    }
   ],
   "source": [
    "df_1st_inn_2008.columns"
   ]
  },
  {
   "cell_type": "code",
   "execution_count": 76,
   "metadata": {},
   "outputs": [],
   "source": [
    "df_1st_inn_2008_modified=df_1st_inn_2008[['toss_winner','toss_decision','wickets','Total','venue','winner']]\n"
   ]
  },
  {
   "cell_type": "code",
   "execution_count": 77,
   "metadata": {},
   "outputs": [
    {
     "data": {
      "text/html": [
       "<div>\n",
       "<style>\n",
       "    .dataframe thead tr:only-child th {\n",
       "        text-align: right;\n",
       "    }\n",
       "\n",
       "    .dataframe thead th {\n",
       "        text-align: left;\n",
       "    }\n",
       "\n",
       "    .dataframe tbody tr th {\n",
       "        vertical-align: top;\n",
       "    }\n",
       "</style>\n",
       "<table border=\"1\" class=\"dataframe\">\n",
       "  <thead>\n",
       "    <tr style=\"text-align: right;\">\n",
       "      <th></th>\n",
       "      <th>toss_winner</th>\n",
       "      <th>toss_decision</th>\n",
       "      <th>match_winner</th>\n",
       "      <th>batting_team</th>\n",
       "      <th>wickets</th>\n",
       "      <th>Total</th>\n",
       "      <th>venue</th>\n",
       "      <th>winner</th>\n",
       "    </tr>\n",
       "  </thead>\n",
       "  <tbody>\n",
       "    <tr>\n",
       "      <th>0</th>\n",
       "      <td>Chennai Super Kings</td>\n",
       "      <td>field</td>\n",
       "      <td>Mumbai Indians</td>\n",
       "      <td>Mumbai Indians</td>\n",
       "      <td>7</td>\n",
       "      <td>165</td>\n",
       "      <td>Newlands</td>\n",
       "      <td>1</td>\n",
       "    </tr>\n",
       "    <tr>\n",
       "      <th>1</th>\n",
       "      <td>Royal Challengers Bangalore</td>\n",
       "      <td>bat</td>\n",
       "      <td>Royal Challengers Bangalore</td>\n",
       "      <td>Royal Challengers Bangalore</td>\n",
       "      <td>8</td>\n",
       "      <td>133</td>\n",
       "      <td>Newlands</td>\n",
       "      <td>1</td>\n",
       "    </tr>\n",
       "    <tr>\n",
       "      <th>2</th>\n",
       "      <td>Delhi Daredevils</td>\n",
       "      <td>field</td>\n",
       "      <td>Delhi Daredevils</td>\n",
       "      <td>Kings XI Punjab</td>\n",
       "      <td>7</td>\n",
       "      <td>104</td>\n",
       "      <td>Newlands</td>\n",
       "      <td>0</td>\n",
       "    </tr>\n",
       "    <tr>\n",
       "      <th>3</th>\n",
       "      <td>Kolkata Knight Riders</td>\n",
       "      <td>bat</td>\n",
       "      <td>Deccan Chargers</td>\n",
       "      <td>Kolkata Knight Riders</td>\n",
       "      <td>10</td>\n",
       "      <td>101</td>\n",
       "      <td>Newlands</td>\n",
       "      <td>0</td>\n",
       "    </tr>\n",
       "    <tr>\n",
       "      <th>4</th>\n",
       "      <td>Chennai Super Kings</td>\n",
       "      <td>bat</td>\n",
       "      <td>Chennai Super Kings</td>\n",
       "      <td>Chennai Super Kings</td>\n",
       "      <td>5</td>\n",
       "      <td>179</td>\n",
       "      <td>St George's Park</td>\n",
       "      <td>1</td>\n",
       "    </tr>\n",
       "  </tbody>\n",
       "</table>\n",
       "</div>"
      ],
      "text/plain": [
       "                   toss_winner toss_decision                 match_winner  \\\n",
       "0          Chennai Super Kings         field               Mumbai Indians   \n",
       "1  Royal Challengers Bangalore           bat  Royal Challengers Bangalore   \n",
       "2             Delhi Daredevils         field             Delhi Daredevils   \n",
       "3        Kolkata Knight Riders           bat              Deccan Chargers   \n",
       "4          Chennai Super Kings           bat          Chennai Super Kings   \n",
       "\n",
       "                  batting_team  wickets  Total             venue  winner  \n",
       "0               Mumbai Indians        7    165          Newlands       1  \n",
       "1  Royal Challengers Bangalore        8    133          Newlands       1  \n",
       "2              Kings XI Punjab        7    104          Newlands       0  \n",
       "3        Kolkata Knight Riders       10    101          Newlands       0  \n",
       "4          Chennai Super Kings        5    179  St George's Park       1  "
      ]
     },
     "execution_count": 77,
     "metadata": {},
     "output_type": "execute_result"
    }
   ],
   "source": [
    "df_1st_inn_2009.head(5)"
   ]
  },
  {
   "cell_type": "code",
   "execution_count": 78,
   "metadata": {
    "collapsed": true
   },
   "outputs": [],
   "source": [
    "df_1st_inn_2009_modified=df_1st_inn_2009[['toss_winner','toss_decision','wickets','Total','venue','winner']]"
   ]
  },
  {
   "cell_type": "code",
   "execution_count": 79,
   "metadata": {
    "collapsed": true
   },
   "outputs": [],
   "source": [
    "y_2008 = df_1st_inn_2008_modified['winner'].copy()\n",
    "X_2008 = df_1st_inn_2008_modified.drop(labels=['winner'], axis=1)"
   ]
  },
  {
   "cell_type": "code",
   "execution_count": 82,
   "metadata": {
    "collapsed": true
   },
   "outputs": [],
   "source": [
    "y_2009 = df_1st_inn_2009_modified['winner'].copy()\n",
    "X_2009 = df_1st_inn_2009_modified.drop(labels=['winner'], axis=1)"
   ]
  },
  {
   "cell_type": "code",
   "execution_count": 83,
   "metadata": {},
   "outputs": [
    {
     "data": {
      "text/html": [
       "<div>\n",
       "<style>\n",
       "    .dataframe thead tr:only-child th {\n",
       "        text-align: right;\n",
       "    }\n",
       "\n",
       "    .dataframe thead th {\n",
       "        text-align: left;\n",
       "    }\n",
       "\n",
       "    .dataframe tbody tr th {\n",
       "        vertical-align: top;\n",
       "    }\n",
       "</style>\n",
       "<table border=\"1\" class=\"dataframe\">\n",
       "  <thead>\n",
       "    <tr style=\"text-align: right;\">\n",
       "      <th></th>\n",
       "      <th>toss_winner</th>\n",
       "      <th>toss_decision</th>\n",
       "      <th>wickets</th>\n",
       "      <th>Total</th>\n",
       "      <th>venue</th>\n",
       "      <th>winner</th>\n",
       "    </tr>\n",
       "  </thead>\n",
       "  <tbody>\n",
       "    <tr>\n",
       "      <th>0</th>\n",
       "      <td>Chennai Super Kings</td>\n",
       "      <td>field</td>\n",
       "      <td>7</td>\n",
       "      <td>165</td>\n",
       "      <td>Newlands</td>\n",
       "      <td>1</td>\n",
       "    </tr>\n",
       "    <tr>\n",
       "      <th>1</th>\n",
       "      <td>Royal Challengers Bangalore</td>\n",
       "      <td>bat</td>\n",
       "      <td>8</td>\n",
       "      <td>133</td>\n",
       "      <td>Newlands</td>\n",
       "      <td>1</td>\n",
       "    </tr>\n",
       "    <tr>\n",
       "      <th>2</th>\n",
       "      <td>Delhi Daredevils</td>\n",
       "      <td>field</td>\n",
       "      <td>7</td>\n",
       "      <td>104</td>\n",
       "      <td>Newlands</td>\n",
       "      <td>0</td>\n",
       "    </tr>\n",
       "    <tr>\n",
       "      <th>3</th>\n",
       "      <td>Kolkata Knight Riders</td>\n",
       "      <td>bat</td>\n",
       "      <td>10</td>\n",
       "      <td>101</td>\n",
       "      <td>Newlands</td>\n",
       "      <td>0</td>\n",
       "    </tr>\n",
       "    <tr>\n",
       "      <th>4</th>\n",
       "      <td>Chennai Super Kings</td>\n",
       "      <td>bat</td>\n",
       "      <td>5</td>\n",
       "      <td>179</td>\n",
       "      <td>St George's Park</td>\n",
       "      <td>1</td>\n",
       "    </tr>\n",
       "  </tbody>\n",
       "</table>\n",
       "</div>"
      ],
      "text/plain": [
       "                   toss_winner toss_decision  wickets  Total  \\\n",
       "0          Chennai Super Kings         field        7    165   \n",
       "1  Royal Challengers Bangalore           bat        8    133   \n",
       "2             Delhi Daredevils         field        7    104   \n",
       "3        Kolkata Knight Riders           bat       10    101   \n",
       "4          Chennai Super Kings           bat        5    179   \n",
       "\n",
       "              venue  winner  \n",
       "0          Newlands       1  \n",
       "1          Newlands       1  \n",
       "2          Newlands       0  \n",
       "3          Newlands       0  \n",
       "4  St George's Park       1  "
      ]
     },
     "execution_count": 83,
     "metadata": {},
     "output_type": "execute_result"
    }
   ],
   "source": [
    "df_1st_inn_2009_modified.head()"
   ]
  },
  {
   "cell_type": "code",
   "execution_count": 84,
   "metadata": {
    "collapsed": true
   },
   "outputs": [],
   "source": [
    "from sklearn.preprocessing import LabelEncoder \n",
    "labelencoder_X = LabelEncoder()\n",
    "X_2008.loc[:,'toss_winner'] = labelencoder_X.fit_transform(X_2008.loc[:,'toss_winner'])\n",
    "X_2008.loc[:,'toss_decision'] = labelencoder_X.fit_transform(X_2008.loc[:,'toss_decision'])\n",
    "X_2008.loc[:,'venue'] = labelencoder_X.fit_transform(X_2008.loc[:,'venue'])"
   ]
  },
  {
   "cell_type": "code",
   "execution_count": 85,
   "metadata": {
    "collapsed": true
   },
   "outputs": [],
   "source": [
    "from sklearn.preprocessing import LabelEncoder \n",
    "labelencoder_X = LabelEncoder()\n",
    "X_2009.loc[:,'toss_winner'] = labelencoder_X.fit_transform(X_2009.loc[:,'toss_winner'])\n",
    "X_2009.loc[:,'toss_decision'] = labelencoder_X.fit_transform(X_2009.loc[:,'toss_decision'])\n",
    "X_2009.loc[:,'venue'] = labelencoder_X.fit_transform(X_2009.loc[:,'venue'])"
   ]
  },
  {
   "cell_type": "code",
   "execution_count": 86,
   "metadata": {
    "collapsed": true
   },
   "outputs": [],
   "source": [
    "# Splitting the dataset into the Training set and Test set\n",
    "from sklearn.model_selection import train_test_split\n",
    "X_train, X_test, y_train, y_test = train_test_split(X_2008, y_2008, test_size = 0.2, random_state = 0)"
   ]
  },
  {
   "cell_type": "code",
   "execution_count": 87,
   "metadata": {},
   "outputs": [
    {
     "data": {
      "text/plain": [
       "DecisionTreeClassifier(class_weight=None, criterion='entropy', max_depth=None,\n",
       "            max_features=None, max_leaf_nodes=None,\n",
       "            min_impurity_split=1e-07, min_samples_leaf=1,\n",
       "            min_samples_split=2, min_weight_fraction_leaf=0.0,\n",
       "            presort=False, random_state=0, splitter='best')"
      ]
     },
     "execution_count": 87,
     "metadata": {},
     "output_type": "execute_result"
    }
   ],
   "source": [
    "from sklearn.tree import DecisionTreeClassifier\n",
    "classifier = DecisionTreeClassifier(criterion = 'entropy', random_state = 0)\n",
    "classifier.fit(X_train, y_train)"
   ]
  },
  {
   "cell_type": "code",
   "execution_count": 88,
   "metadata": {},
   "outputs": [
    {
     "name": "stdout",
     "output_type": "stream",
     "text": [
      "0.793333333333\n",
      "0.213853532431\n"
     ]
    }
   ],
   "source": [
    "# Applying k-Fold Cross Validation\n",
    "from sklearn.model_selection import cross_val_score\n",
    "accuracies = cross_val_score(estimator = classifier, X = X_train, y = y_train, cv = 10)\n",
    "print(accuracies.mean())\n",
    "print(accuracies.std())"
   ]
  },
  {
   "cell_type": "code",
   "execution_count": 89,
   "metadata": {},
   "outputs": [
    {
     "data": {
      "text/html": [
       "<div>\n",
       "<style>\n",
       "    .dataframe thead tr:only-child th {\n",
       "        text-align: right;\n",
       "    }\n",
       "\n",
       "    .dataframe thead th {\n",
       "        text-align: left;\n",
       "    }\n",
       "\n",
       "    .dataframe tbody tr th {\n",
       "        vertical-align: top;\n",
       "    }\n",
       "</style>\n",
       "<table border=\"1\" class=\"dataframe\">\n",
       "  <thead>\n",
       "    <tr style=\"text-align: right;\">\n",
       "      <th></th>\n",
       "      <th>toss_winner</th>\n",
       "      <th>toss_decision</th>\n",
       "      <th>wickets</th>\n",
       "      <th>Total</th>\n",
       "      <th>venue</th>\n",
       "    </tr>\n",
       "  </thead>\n",
       "  <tbody>\n",
       "    <tr>\n",
       "      <th>0</th>\n",
       "      <td>0</td>\n",
       "      <td>1</td>\n",
       "      <td>7</td>\n",
       "      <td>165</td>\n",
       "      <td>4</td>\n",
       "    </tr>\n",
       "    <tr>\n",
       "      <th>1</th>\n",
       "      <td>7</td>\n",
       "      <td>0</td>\n",
       "      <td>8</td>\n",
       "      <td>133</td>\n",
       "      <td>4</td>\n",
       "    </tr>\n",
       "    <tr>\n",
       "      <th>2</th>\n",
       "      <td>2</td>\n",
       "      <td>1</td>\n",
       "      <td>7</td>\n",
       "      <td>104</td>\n",
       "      <td>4</td>\n",
       "    </tr>\n",
       "    <tr>\n",
       "      <th>3</th>\n",
       "      <td>4</td>\n",
       "      <td>0</td>\n",
       "      <td>10</td>\n",
       "      <td>101</td>\n",
       "      <td>4</td>\n",
       "    </tr>\n",
       "    <tr>\n",
       "      <th>4</th>\n",
       "      <td>0</td>\n",
       "      <td>0</td>\n",
       "      <td>5</td>\n",
       "      <td>179</td>\n",
       "      <td>6</td>\n",
       "    </tr>\n",
       "    <tr>\n",
       "      <th>5</th>\n",
       "      <td>4</td>\n",
       "      <td>1</td>\n",
       "      <td>6</td>\n",
       "      <td>158</td>\n",
       "      <td>2</td>\n",
       "    </tr>\n",
       "    <tr>\n",
       "      <th>6</th>\n",
       "      <td>1</td>\n",
       "      <td>0</td>\n",
       "      <td>6</td>\n",
       "      <td>184</td>\n",
       "      <td>4</td>\n",
       "    </tr>\n",
       "    <tr>\n",
       "      <th>7</th>\n",
       "      <td>2</td>\n",
       "      <td>0</td>\n",
       "      <td>5</td>\n",
       "      <td>189</td>\n",
       "      <td>2</td>\n",
       "    </tr>\n",
       "    <tr>\n",
       "      <th>8</th>\n",
       "      <td>4</td>\n",
       "      <td>1</td>\n",
       "      <td>6</td>\n",
       "      <td>150</td>\n",
       "      <td>4</td>\n",
       "    </tr>\n",
       "    <tr>\n",
       "      <th>9</th>\n",
       "      <td>7</td>\n",
       "      <td>0</td>\n",
       "      <td>9</td>\n",
       "      <td>168</td>\n",
       "      <td>2</td>\n",
       "    </tr>\n",
       "    <tr>\n",
       "      <th>10</th>\n",
       "      <td>1</td>\n",
       "      <td>0</td>\n",
       "      <td>9</td>\n",
       "      <td>168</td>\n",
       "      <td>2</td>\n",
       "    </tr>\n",
       "    <tr>\n",
       "      <th>11</th>\n",
       "      <td>7</td>\n",
       "      <td>0</td>\n",
       "      <td>7</td>\n",
       "      <td>149</td>\n",
       "      <td>6</td>\n",
       "    </tr>\n",
       "  </tbody>\n",
       "</table>\n",
       "</div>"
      ],
      "text/plain": [
       "    toss_winner  toss_decision  wickets  Total  venue\n",
       "0             0              1        7    165      4\n",
       "1             7              0        8    133      4\n",
       "2             2              1        7    104      4\n",
       "3             4              0       10    101      4\n",
       "4             0              0        5    179      6\n",
       "5             4              1        6    158      2\n",
       "6             1              0        6    184      4\n",
       "7             2              0        5    189      2\n",
       "8             4              1        6    150      4\n",
       "9             7              0        9    168      2\n",
       "10            1              0        9    168      2\n",
       "11            7              0        7    149      6"
      ]
     },
     "execution_count": 89,
     "metadata": {},
     "output_type": "execute_result"
    }
   ],
   "source": [
    "X_2009.head(12)"
   ]
  },
  {
   "cell_type": "code",
   "execution_count": 90,
   "metadata": {},
   "outputs": [
    {
     "data": {
      "text/plain": [
       "array([[24,  7],\n",
       "       [12, 14]])"
      ]
     },
     "execution_count": 90,
     "metadata": {},
     "output_type": "execute_result"
    }
   ],
   "source": [
    "# Predicting the Test set results\n",
    "y_pred = classifier.predict(X_2009)\n",
    "\n",
    "# Making the Confusion Matrix\n",
    "from sklearn.metrics import confusion_matrix  \n",
    "cm = confusion_matrix(y_2009, y_pred)\n",
    "cm"
   ]
  },
  {
   "cell_type": "code",
   "execution_count": 91,
   "metadata": {
    "collapsed": true
   },
   "outputs": [],
   "source": [
    "from sklearn.metrics import f1_score\n",
    "f_score = f1_score(y_2009,y_pred)"
   ]
  },
  {
   "cell_type": "code",
   "execution_count": 92,
   "metadata": {},
   "outputs": [
    {
     "data": {
      "text/plain": [
       "0.5957446808510638"
      ]
     },
     "execution_count": 92,
     "metadata": {},
     "output_type": "execute_result"
    }
   ],
   "source": [
    "f_score"
   ]
  },
  {
   "cell_type": "code",
   "execution_count": null,
   "metadata": {
    "collapsed": true
   },
   "outputs": [],
   "source": []
  }
 ],
 "metadata": {
  "kernelspec": {
   "display_name": "Python 3",
   "language": "python",
   "name": "python3"
  }
 },
 "nbformat": 4,
 "nbformat_minor": 2
}
